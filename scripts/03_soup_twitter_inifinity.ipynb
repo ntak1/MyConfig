{
 "cells": [
  {
   "cell_type": "markdown",
   "metadata": {},
   "source": [
    "# ... Building Process\n",
    "The next step is to deal with Twitter's infinity scrolling without using the official API. While not there ... here, some references:  \n",
    "[[1]](https://blog.michaelyin.info/how-crawl-infinite-scrolling-pages-using-python/) Not using API.\n",
    "[[2]](https://miguelmalvarez.com/2015/03/03/download-the-pictures-from-a-twitter-feed-using-python/) Using API."
   ]
  },
  {
   "cell_type": "code",
   "execution_count": 1,
   "metadata": {},
   "outputs": [],
   "source": [
    "import os\n",
    "import tweepy\n",
    "import wget"
   ]
  },
  {
   "cell_type": "code",
   "execution_count": 2,
   "metadata": {},
   "outputs": [],
   "source": [
    "path = '../../tweepy/secrets.txt'\n",
    "with open(path, 'r') as f:\n",
    "    consumer_key = f.readline()[:-1]\n",
    "    consumer_secret = f.readline()[:-1]\n",
    "    access_token = f.readline()[:-1]\n",
    "    access_token_secret = f.readline()[:-1]"
   ]
  },
  {
   "cell_type": "code",
   "execution_count": 3,
   "metadata": {
    "scrolled": true
   },
   "outputs": [
    {
     "name": "stdout",
     "output_type": "stream",
     "text": [
      "RT @ly_carr: Muito revoltada porém sem conseguir tirar o olho disso https://t.co/0tnTiT6gKJ\n",
      "RT @euotrouxa: se a pessoa manda vc estudar ela gosta de vc SIM\n",
      "RT @MrLawful: \"não tinha em quem votar além do Bolsonaro\"\n",
      "\n",
      "Marina\n",
      "Alckmin\n",
      "Meirelles\n",
      "Amoedo\n",
      "Ciro\n",
      "Eymael\n",
      "Cabo Daciolo\n",
      "Haddad\n",
      "João Goulart\n",
      "Ver…\n",
      "Quem diria que seria o Bozo que tá pedindo revolução caminhoneira e travando guerra à cultura\n",
      "\n",
      "E era o Haddad que diziam ser comunista\n",
      "RT @margaretg_15: Women: can we have access to affordable birth control? \n",
      "\n",
      "Men: NO\n",
      "\n",
      "Women: can we have access to safe abortions? \n",
      "\n",
      "Men: abs…\n",
      "RT @reinaldoazevedo: Oh, antipetismo! Quantos crimes se cometerão e se justificarão em teu nome?\n",
      "RT @andreawerner_: Pais dão MMS (dióxido de cloro diluído) p/ os filhos autistas via enema, pelo ânus. Afinal, alvejante tem gosto ruim. As…\n",
      "RT @arctmankeys: essa eh tipo a PRIMEIRA imagem da internet serio quem nao tinha isso no celular nao me dirija a palavra https://t.co/Ey2Bt…\n",
      "O #JonSnow já fez muita coisa em #GOT, mas não ultimamente tá bem apagado na série... Falamos sobre o futuro dele e… https://t.co/f3vG9DvDKg\n",
      "2 eps p finalmente terminarmos Residência Hill 🙌🏼\n",
      "Curiosíssima estou\n",
      "RT natgeobrasil \"Depois que o ato acaba, a fêmea escapa da \"amarração\" e o macho tem que fugir rapidinho.… https://t.co/S4V1mYMT5h\n",
      "RT @xuxanave: EU NÃO TO AGUENTANDO ESSE VÍDEO HAHAHAHAHAHAHAHAHA SOCORRO https://t.co/1qqWVadbgt\n",
      "RT @musoverao: marque uma preguica p ve esa preguica https://t.co/I6XPC56GrD\n",
      "pérola resolveu ficar atacada as 5h30 da manha deus é mais\n",
      "私は生理痛が酷いです。\n",
      "\n",
      "I have really bad menstrual cramps.\n",
      "RT natgeobrasil \"Além do arco-íris! Confira imagens impressionantes deste raro fenômeno. #NatGeoFoto\n",
      "\n",
      "https://t.co/xbzVwlil9M\"\n",
      "考えれば考えるほど嫌になる。\n",
      "\n",
      "The more I think about it the more upset I get.\n",
      "SAIU O VÍDEO COM O NED STARK https://t.co/TjMXPwrM49\n"
     ]
    }
   ],
   "source": [
    "auth = tweepy.OAuthHandler(consumer_key, consumer_secret)\n",
    "auth.set_access_token(access_token, access_token_secret)\n",
    "\n",
    "api = tweepy.API(auth)\n",
    "\n",
    "public_tweets = api.home_timeline()\n",
    "for tweet in public_tweets:\n",
    "    print(tweet.text)"
   ]
  },
  {
   "cell_type": "code",
   "execution_count": 4,
   "metadata": {},
   "outputs": [],
   "source": [
    "tweets = api.user_timeline(screen_name='avogado6',\n",
    "                           count=200, include_rts=False,\n",
    "                           exclude_replies=True)"
   ]
  },
  {
   "cell_type": "code",
   "execution_count": 5,
   "metadata": {},
   "outputs": [
    {
     "name": "stdout",
     "output_type": "stream",
     "text": [
      "No more tweets\n"
     ]
    }
   ],
   "source": [
    "last_id = tweets[-1].id\n",
    "username = 'avogado6'\n",
    "max_iterations = 10\n",
    "i = 0\n",
    "while (True and i < 10):\n",
    "    more_tweets = api.user_timeline(screen_name=username,\n",
    "                                count=200,\n",
    "                                include_rts=False,\n",
    "                                exclude_replies=True,\n",
    "                                max_id=last_id-1)\n",
    "    # There are no more tweets\n",
    "    if (len(more_tweets) == 0):\n",
    "        print(\"No more tweets\")  \n",
    "        break\n",
    "    else:\n",
    "          last_id = more_tweets[-1].id-1\n",
    "          tweets = tweets + more_tweets\n",
    "    i += 1"
   ]
  },
  {
   "cell_type": "code",
   "execution_count": 6,
   "metadata": {},
   "outputs": [],
   "source": [
    "media_files = set()\n",
    "for status in tweets:\n",
    "    media = status.entities.get('media', [])\n",
    "    if(len(media) > 0):\n",
    "        media_files.add(media[0]['media_url'])"
   ]
  },
  {
   "cell_type": "code",
   "execution_count": null,
   "metadata": {},
   "outputs": [],
   "source": [
    "for media_file in media_files:\n",
    "     wget.download(media_file)"
   ]
  },
  {
   "cell_type": "code",
   "execution_count": null,
   "metadata": {},
   "outputs": [],
   "source": []
  }
 ],
 "metadata": {
  "kernelspec": {
   "display_name": "Python 3",
   "language": "python",
   "name": "python3"
  },
  "language_info": {
   "codemirror_mode": {
    "name": "ipython",
    "version": 3
   },
   "file_extension": ".py",
   "mimetype": "text/x-python",
   "name": "python",
   "nbconvert_exporter": "python",
   "pygments_lexer": "ipython3",
   "version": "3.6.6"
  },
  "latex_envs": {
   "LaTeX_envs_menu_present": true,
   "autoclose": false,
   "autocomplete": true,
   "bibliofile": "biblio.bib",
   "cite_by": "apalike",
   "current_citInitial": 1,
   "eqLabelWithNumbers": true,
   "eqNumInitial": 1,
   "hotkeys": {
    "equation": "Ctrl-E",
    "itemize": "Ctrl-I"
   },
   "labels_anchors": false,
   "latex_user_defs": false,
   "report_style_numbering": false,
   "user_envs_cfg": false
  },
  "toc": {
   "base_numbering": 1,
   "nav_menu": {},
   "number_sections": false,
   "sideBar": false,
   "skip_h1_title": false,
   "title_cell": "Table of Contents",
   "title_sidebar": "Contents",
   "toc_cell": false,
   "toc_position": {},
   "toc_section_display": false,
   "toc_window_display": false
  }
 },
 "nbformat": 4,
 "nbformat_minor": 2
}

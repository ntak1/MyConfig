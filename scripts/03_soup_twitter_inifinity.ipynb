{
 "cells": [
  {
   "cell_type": "markdown",
   "metadata": {},
   "source": [
    "# ... Building Process\n",
    "The next step is to deal with Twitter's infinity scrolling without using the official API. While not there ... here, some references:  \n",
    "[[1]](https://blog.michaelyin.info/how-crawl-infinite-scrolling-pages-using-python/) Not using API.\n",
    "[[2]](https://miguelmalvarez.com/2015/03/03/download-the-pictures-from-a-twitter-feed-using-python/) Using API."
   ]
  },
  {
   "cell_type": "code",
   "execution_count": null,
   "metadata": {},
   "outputs": [],
   "source": [
    "import os\n",
    "import tweepy\n",
    "import wget"
   ]
  },
  {
   "cell_type": "code",
   "execution_count": null,
   "metadata": {},
   "outputs": [],
   "source": [
    "path = '../../tweepy/secrets.txt'\n",
    "with open(path, 'r') as f:\n",
    "    consumer_key = f.readline()[:-1]\n",
    "    consumer_secret = f.readline()[:-1]\n",
    "    access_token = f.readline()[:-1]\n",
    "    access_token_secret = f.readline()[:-1]"
   ]
  },
  {
   "cell_type": "code",
   "execution_count": null,
   "metadata": {},
   "outputs": [],
   "source": [
    "auth = tweepy.OAuthHandler(consumer_key, consumer_secret)\n",
    "auth.set_access_token(access_token, access_token_secret)\n",
    "\n",
    "api = tweepy.API(auth)\n",
    "\n",
    "public_tweets = api.home_timeline()\n",
    "for tweet in public_tweets:\n",
    "    print(tweet.text)"
   ]
  },
  {
   "cell_type": "code",
   "execution_count": null,
   "metadata": {},
   "outputs": [],
   "source": [
    "tweets = api.user_timeline(screen_name='avogado6',\n",
    "                           count=200, include_rts=False,\n",
    "                           exclude_replies=True)"
   ]
  },
  {
   "cell_type": "code",
   "execution_count": null,
   "metadata": {},
   "outputs": [],
   "source": [
    "last_id = tweets[-1].id\n",
    "username = 'avogado6'\n",
    "max_iterations = 10\n",
    "i = 0\n",
    "while (True and i < 10):\n",
    "    more_tweets = api.user_timeline(screen_name=username,\n",
    "                                count=200,\n",
    "                                include_rts=False,\n",
    "                                exclude_replies=True,\n",
    "                                max_id=last_id-1)\n",
    "    # There are no more tweets\n",
    "    if (len(more_tweets) == 0):\n",
    "        print(\"No more tweets\")  \n",
    "        break\n",
    "    else:\n",
    "          last_id = more_tweets[-1].id-1\n",
    "          tweets = tweets + more_tweets\n",
    "    i += 1"
   ]
  },
  {
   "cell_type": "code",
   "execution_count": null,
   "metadata": {},
   "outputs": [],
   "source": [
    "media_files = set()\n",
    "for status in tweets:\n",
    "    media = status.entities.get('media', [])\n",
    "    if(len(media) > 0):\n",
    "        media_files.add(media[0]['media_url'])"
   ]
  },
  {
   "cell_type": "code",
   "execution_count": null,
   "metadata": {},
   "outputs": [],
   "source": [
    "for media_file in media_files:\n",
    "     wget.download(media_file)"
   ]
  },
  {
   "cell_type": "code",
   "execution_count": null,
   "metadata": {},
   "outputs": [],
   "source": []
  }
 ],
 "metadata": {
  "kernelspec": {
   "display_name": "Python 3",
   "language": "python",
   "name": "python3"
  },
  "language_info": {
   "codemirror_mode": {
    "name": "ipython",
    "version": 3
   },
   "file_extension": ".py",
   "mimetype": "text/x-python",
   "name": "python",
   "nbconvert_exporter": "python",
   "pygments_lexer": "ipython3",
   "version": "3.6.6"
  },
  "latex_envs": {
   "LaTeX_envs_menu_present": true,
   "autoclose": false,
   "autocomplete": true,
   "bibliofile": "biblio.bib",
   "cite_by": "apalike",
   "current_citInitial": 1,
   "eqLabelWithNumbers": true,
   "eqNumInitial": 1,
   "hotkeys": {
    "equation": "Ctrl-E",
    "itemize": "Ctrl-I"
   },
   "labels_anchors": false,
   "latex_user_defs": false,
   "report_style_numbering": false,
   "user_envs_cfg": false
  },
  "toc": {
   "base_numbering": 1,
   "nav_menu": {},
   "number_sections": false,
   "sideBar": false,
   "skip_h1_title": false,
   "title_cell": "Table of Contents",
   "title_sidebar": "Contents",
   "toc_cell": false,
   "toc_position": {},
   "toc_section_display": false,
   "toc_window_display": false
  }
 },
 "nbformat": 4,
 "nbformat_minor": 2
}

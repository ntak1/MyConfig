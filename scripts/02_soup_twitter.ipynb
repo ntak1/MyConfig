{
 "cells": [
  {
   "cell_type": "markdown",
   "metadata": {},
   "source": [
    "# Hello Twitter\n",
    "Here a simple code to download the content of the 20 first tweets of a given user."
   ]
  },
  {
   "cell_type": "code",
   "execution_count": 1,
   "metadata": {},
   "outputs": [],
   "source": [
    "import os\n",
    "import requests\n",
    "import wget\n",
    "from bs4 import BeautifulSoup\n",
    "\n",
    "from utils import *"
   ]
  },
  {
   "cell_type": "code",
   "execution_count": 2,
   "metadata": {},
   "outputs": [
    {
     "name": "stdout",
     "output_type": "stream",
     "text": [
      "200\n"
     ]
    }
   ],
   "source": [
    "# Change here the link to someone's page\n",
    "page_link = 'https://twitter.com/avogado6'\n",
    "\n",
    "response = requests.get(page_link, timeout=5)\n",
    "page_content = BeautifulSoup(response.content, 'html.parser')\n",
    "print(response.status_code)"
   ]
  },
  {
   "cell_type": "code",
   "execution_count": 3,
   "metadata": {},
   "outputs": [
    {
     "name": "stdout",
     "output_type": "stream",
     "text": [
      "https://pbs.twimg.com/media/DyO0Do7UcAAn7br.jpg\n",
      "https://pbs.twimg.com/media/DyeiS2rV4AEolpr.jpg\n",
      "https://pbs.twimg.com/media/DyZxkMOVsAELOyu.jpg\n",
      "https://pbs.twimg.com/media/DyZxk8WV4AAZbTO.jpg\n",
      "https://pbs.twimg.com/media/DyZxl76UUAAWaJF.jpg\n",
      "https://pbs.twimg.com/media/DyZxmhyVYAk1s-K.jpg\n",
      "https://pbs.twimg.com/media/DyUkgoxU8AASKCW.jpg\n",
      "https://pbs.twimg.com/media/DyUkhPqV4AAbRXF.jpg\n",
      "https://pbs.twimg.com/media/DyUkiMXVYAA0dEr.jpg\n",
      "https://pbs.twimg.com/media/DyUkixPUYAAYj4C.jpg\n",
      "https://pbs.twimg.com/media/DyTu5xMV4AArKdS.jpg\n",
      "https://pbs.twimg.com/media/DyTu6ocVAAAF5ht.jpg\n",
      "https://pbs.twimg.com/media/DyPQonpV4AEm6td.jpg\n",
      "https://abs.twimg.com/emoji/v2/72x72/2728.png\n",
      "https://abs.twimg.com/emoji/v2/72x72/1f60a.png\n",
      "https://pbs.twimg.com/media/DyOwWxjVYAAZyzM.jpg\n",
      "https://pbs.twimg.com/media/DyOwWxkU0AE27Sd.jpg\n",
      "https://pbs.twimg.com/media/DyOwWxlU8AAaORr.jpg\n",
      "https://pbs.twimg.com/media/DyOwWxkVYAABtF2.jpg\n",
      "https://pbs.twimg.com/media/DyOp7uPVsAUouTI.jpg\n",
      "https://pbs.twimg.com/media/DyKSsWKVAAEge7c.jpg\n",
      "https://pbs.twimg.com/media/DyE4BdoUcAAiyhU.jpg\n",
      "https://pbs.twimg.com/media/DyEiPWmUcAAmRMZ.jpg\n",
      "https://pbs.twimg.com/media/Dx_tYYHVYAEU9qv.jpg\n",
      "https://pbs.twimg.com/media/Dx_XM5oUYAAHa7K.jpg\n",
      "https://pbs.twimg.com/media/Dx6urAzU0AA-SY-.jpg\n",
      "https://pbs.twimg.com/media/Dx6JEPOVYAIr6M9.jpg\n",
      "https://pbs.twimg.com/media/Dx11KauU0AAlTSr.jpg\n",
      "https://pbs.twimg.com/media/Dx1Rdj8UcAAHPCZ.jpg\n",
      "https://pbs.twimg.com/media/Dx0o0lpVYAAMWvd.jpg\n",
      "https://pbs.twimg.com/media/Dx0o1PmV4AUMn9D.jpg\n",
      "https://pbs.twimg.com/media/Dx0o157U8AArZga.jpg\n",
      "https://pbs.twimg.com/media/Dx0o4uUVAAEmlKL.jpg\n",
      "https://pbs.twimg.com/media/DxwlggqU8AAnfwR.jpg\n"
     ]
    }
   ],
   "source": [
    "# Create a directory to store the data\n",
    "dir_name = 'avogado6'\n",
    "try:\n",
    "    os.stat(dir_name)\n",
    "except:\n",
    "    os.mkdir(dir_name)\n",
    "\n",
    "# Find the matching links to the files\n",
    "image_links = page_content.find_all('img')\n",
    "image_links = [link.attrs['src'] for link in image_links if 'src' in link.attrs]\n",
    "image_links = [link for link in image_links if 'profile' not in link]\n",
    "print_array(image_links)\n",
    "    \n",
    "# Download the content\n",
    "for image in image_links:\n",
    "    wget.download(url=image,out=dir_name)"
   ]
  }
 ],
 "metadata": {
  "kernelspec": {
   "display_name": "Python 3",
   "language": "python",
   "name": "python3"
  },
  "language_info": {
   "codemirror_mode": {
    "name": "ipython",
    "version": 3
   },
   "file_extension": ".py",
   "mimetype": "text/x-python",
   "name": "python",
   "nbconvert_exporter": "python",
   "pygments_lexer": "ipython3",
   "version": "3.6.6"
  },
  "latex_envs": {
   "LaTeX_envs_menu_present": true,
   "autoclose": false,
   "autocomplete": true,
   "bibliofile": "biblio.bib",
   "cite_by": "apalike",
   "current_citInitial": 1,
   "eqLabelWithNumbers": true,
   "eqNumInitial": 1,
   "hotkeys": {
    "equation": "Ctrl-E",
    "itemize": "Ctrl-I"
   },
   "labels_anchors": false,
   "latex_user_defs": false,
   "report_style_numbering": false,
   "user_envs_cfg": false
  },
  "toc": {
   "base_numbering": 1,
   "nav_menu": {},
   "number_sections": false,
   "sideBar": false,
   "skip_h1_title": false,
   "title_cell": "Table of Contents",
   "title_sidebar": "Contents",
   "toc_cell": false,
   "toc_position": {},
   "toc_section_display": false,
   "toc_window_display": false
  }
 },
 "nbformat": 4,
 "nbformat_minor": 2
}

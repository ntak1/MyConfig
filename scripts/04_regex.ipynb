{
 "cells": [
  {
   "cell_type": "markdown",
   "metadata": {},
   "source": [
    "# In this notebook let's see some useful regular expression\n",
    "See references:\n",
    "* [Basics - iterative tutorial](https://regexone.com/lesson/introduction_abcs)\n",
    "* [Python RegEx w3schools](https://www.w3schools.com/python/python_regex.asp)\n",
    "* [Python RegEx Doc](https://docs.python.org/2/howto/regex.html#regex-howto)\n",
    "\n",
    "Notes: RegEx might be faster than python code, this one is possibly more readable than regular expressions.\n",
    "<table>\n",
    "    <tr>\n",
    "        <th>Operator</th>\n",
    "        <th>Description</th>\n",
    "    </tr>\n",
    "    <tr>\n",
    "        <td><b>\\.</b></td>\n",
    "        <td> It is a meta character that represents match any single character. To refer to the character <b>\\.</b>  (dot), use <b>\\.</b>. </td>\n",
    "    </tr>\n",
    "    <tr>\n",
    "        <td><b>\\ + char</b></td>\n",
    "        <td>Indicates a metacharacter.</td>\n",
    "    </tr>\n",
    "    <tr>\n",
    "        <td><b>[abc]</b></td>\n",
    "        <td>Selects the slices that contains the char a,b or c.</td>\n",
    "    </tr>\n",
    "    <tr>\n",
    "        <td><b>^</b></td>\n",
    "        <td>Including this character as in [^abc] we select the strings that does't contain a,b or c.</td>\n",
    "    </tr>\n",
    "    <tr>\n",
    "        <td><b>-</b></td>\n",
    "        <td>If we want to select characters in a range we use <b>dash (-)</b> to separate the first element of the last of a given range. Ex: <b>[0-6]</b>. One special metacharacter is <b>\\w</b> that is equivalent to <b>[A-Za-z0-9].</b></td>\n",
    "    </tr>\n",
    "    <tr>\n",
    "        <td><b>{}</b></td>\n",
    "        <td>Repetition. Ex <b>a{3}</b>, search for an a repeated 3 times. Ex <b>a{1,3}</b>, no less than one time, no more then 3.</td>\n",
    "    </tr>\n",
    "    <tr>\n",
    "        <td><b>* +</b></td>\n",
    "        <td>Matching an arbitary number of characters. Ex  <b>\\d*</b> any number of digits.<b>\\d+</b> ensures at least one digit. in practice: <b>*</b> means zero or more and <b> + </b> means one or more.</td>\n",
    "    </tr>\n",
    "    <tr>\n",
    "        <td><b>?</b></td>\n",
    "        <td>Optional characters. Ex <b>ab?c</b> might match abc or ac because  is optional.</td>\n",
    "    </tr>\n",
    "    <tr>\n",
    "        <td><b>\\s</b></td>\n",
    "        <td>Spaces</td>\n",
    "    </tr>\n",
    "    <tr>\n",
    "        <td><b>^word</b></td>\n",
    "        <td>Startings and endings.<b>^word</b> match the lines that begin with word.</td>\n",
    "    </tr>\n",
    "    <tr>\n",
    "        <td><b>()</b></td>\n",
    "        <td>Match group. Ex <b>^(file\\w*)\\.pdf$</b> match the pdf files that have the word file in the name, but doesn't capture the extension.</td>\n",
    "    </tr>\n",
    "    <tr>\n",
    "        <td><b>(())</b></td>\n",
    "        <td>Match a group in a matched group.</td>\n",
    "    </tr>\n",
    "    <tr>\n",
    "        <td><b>|</b></td>\n",
    "        <td>Conditionals: or <b>|</b>. Ex (a|b).</td>\n",
    "    </tr>\n",
    "    <tr>\n",
    "        <td><b>\\D \\W \\S \\b</b></td>\n",
    "        <td>The oposites: \\D non digits, \\W non alphanumeric, \\S no whitespace. \\b matches the boundary of a word and a non word char</td>\n",
    "    </tr>\n",
    "</table>\n",
    "\n",
    "---\n"
   ]
  },
  {
   "cell_type": "code",
   "execution_count": 12,
   "metadata": {},
   "outputs": [],
   "source": [
    "# The regular expressin library\n",
    "import re\n",
    "import requests\n",
    "import bs4 as bs"
   ]
  },
  {
   "cell_type": "markdown",
   "metadata": {},
   "source": [
    "## Main functions of the re module\n",
    "<table>\n",
    "    <tr>\n",
    "        <th>Function</th>\n",
    "        <th>Description</th>\n",
    "    </tr>\n",
    "    <tr>\n",
    "        <td>findall</td>\n",
    "        <td>Returns a list containing all matches</td>\n",
    "    </tr>\n",
    "     <tr>\n",
    "        <td>search</td>\n",
    "        <td>Returns a Match object if there is a match anywhere in the string</td>\n",
    "    </tr>\n",
    "     <tr>\n",
    "        <td>split</td>\n",
    "        <td>Returns a list where the string has been split at each match</td>\n",
    "    </tr>\n",
    "     <tr>\n",
    "        <td>sub</td>\n",
    "        <td>Replaces one or many matches with a string</td>\n",
    "    </tr>\n",
    "</table>\n"
   ]
  },
  {
   "cell_type": "code",
   "execution_count": 19,
   "metadata": {},
   "outputs": [
    {
     "name": "stdout",
     "output_type": "stream",
     "text": [
      "Status response: 200\n"
     ]
    }
   ],
   "source": [
    "page_link = 'https://en.wikipedia.org/wiki/March_Comes_in_Like_a_Lion'\n",
    "response = requests.get(page_link, timeout=5)\n",
    "print('Status response:', response.status_code)\n"
   ]
  },
  {
   "cell_type": "code",
   "execution_count": 20,
   "metadata": {},
   "outputs": [],
   "source": [
    "page_content = bs.BeautifulSoup(response.content, 'html.parser') \n"
   ]
  },
  {
   "cell_type": "markdown",
   "metadata": {},
   "source": [
    "### re.findall()\n"
   ]
  },
  {
   "cell_type": "code",
   "execution_count": 21,
   "metadata": {},
   "outputs": [
    {
     "name": "stdout",
     "output_type": "stream",
     "text": [
      "['Shogi', 'Shogi', 'Shogi', 'Shogi']\n"
     ]
    }
   ],
   "source": [
    "term = 'Shogi'\n",
    "x = re.findall(term,page_content.text)\n",
    "print(x) "
   ]
  },
  {
   "cell_type": "markdown",
   "metadata": {},
   "source": [
    "### re.search()\n"
   ]
  },
  {
   "cell_type": "code",
   "execution_count": 26,
   "metadata": {},
   "outputs": [
    {
     "name": "stdout",
     "output_type": "stream",
     "text": [
      "The position of the first occurrence (1161, 1166).\n"
     ]
    }
   ],
   "source": [
    "term = 'Shogi'\n",
    "match_obj = re.search(term, page_content.text)\n",
    "print('The position of the first occurrence (%d, %d).' %(match_obj.start(), match_obj.end()))"
   ]
  },
  {
   "cell_type": "markdown",
   "metadata": {},
   "source": [
    "### re.split()"
   ]
  },
  {
   "cell_type": "code",
   "execution_count": 29,
   "metadata": {},
   "outputs": [
    {
     "name": "stdout",
     "output_type": "stream",
     "text": [
      "Split at each occurrence of the term specified: ['\\n\\n\\n\\nMarch Comes in Like a Lion - Wikipedia\\ndocument.documentElement.className = document.documentElement.className.replace( /(^|\\\\s)client-nojs(\\\\s|$)/, \"$1client-js$2\" );\\n(window.RLQ=window.RLQ||[]).push(function(){mw.config.set({\"wgCanonicalNamespace\":\"\",\"wgCanonicalSpecialPageName\":false,\"wgNamespaceNumber\":0,\"wgPageName\":\"March_Comes_in_Like_a_Lion\",\"wgTitle\":\"March Comes in Like a Lion\",\"wgCurRevisionId\":879023528,\"wgRevisionId\":879023528,\"wgArticleId\":12467068,\"wgIsArticle\":true,\"wgIsRedirect\":false,\"wgAction\":\"view\",\"wgUserName\":null,\"wgUserGroups\":[\"*\"],\"wgCategories\":[\"Pages with reference errors\",\"CS1 uses Japanese-language script (ja)\",\"CS1 Japanese-language sources (ja)\",\"Pages with duplicate reference names\",\"Articles containing Japanese-language text\",\"Interlanguage link template link number\",\"Articles with Japanese-language external links\",\"Manga series\",\"2007 manga\",\"2016 anime television series\",\"Anime series based on manga\",\"Aniplex\",\"Coming-of-age anime and manga\",\"Hakusensha franchises\",\"Hakusensha manga\",\"Manga adapted into films\",\"Manga Taishō\",\"NHK shows\",\"Romantic comedy anime and manga\",\"Seinen manga\",\"Shaft (company)\",\"', ' in anime and manga\",\"Winner of Kodansha Manga Award (General)\"],\"wgBreakFrames\":false,\"wgPageContentLanguage\":\"en\",\"wgPageContentModel\":\"wikitext\",\"wgSeparatorTransformTable\":[\"\",\"\"],\"wgDigitTransformTable\":[\"\",\"\"],\"wgDefaultDateFormat\":\"dmy\",\"wgMonthNames\":[\"\",\"January\",\"February\",\"March\",\"April\",\"May\",\"June\",\"July\",\"August\",\"September\",\"October\",\"November\",\"December\"],\"wgMonthNamesShort\":[\"\",\"Jan\",\"Feb\",\"Mar\",\"Apr\",\"May\",\"Jun\",\"Jul\",\"Aug\",\"Sep\",\"Oct\",\"Nov\",\"Dec\"],\"wgRelevantPageName\":\"March_Comes_in_Like_a_Lion\",\"wgRelevantArticleId\":12467068,\"wgRequestId\":\"XGAZvApAICsAACmsyu8AAAAS\",\"wgCSPNonce\":false,\"wgIsProbablyEditable\":true,\"wgRelevantPageIsProbablyEditable\":true,\"wgRestrictionEdit\":[],\"wgRestrictionMove\":[],\"wgFlaggedRevsParams\":{\"tags\":{}},\"wgStableRevisionId\":null,\"wgCategoryTreePageCategoryOptions\":\"{\\\\\"mode\\\\\":0,\\\\\"hideprefix\\\\\":20,\\\\\"showcount\\\\\":true,\\\\\"namespaces\\\\\":false}\",\"wgWikiEditorEnabledModules\":[],\"wgBetaFeaturesFeatures\":[],\"wgMediaViewerOnClick\":true,\"wgMediaViewerEnabledByDefault\":true,\"wgPopupsShouldSendModuleToUser\":true,\"wgPopupsConflictsWithNavPopupGadget\":false,\"wgVisualEditor\":{\"pageLanguageCode\":\"en\",\"pageLanguageDir\":\"ltr\",\"pageVariantFallbacks\":\"en\",\"usePageImages\":true,\"usePageDescriptions\":true},\"wgMFIsPageContentModelEditable\":true,\"wgMFExpandAllSectionsUserOption\":true,\"wgMFEnableFontChanger\":true,\"wgMFDisplayWikibaseDescriptions\":{\"search\":true,\"nearby\":true,\"watchlist\":true,\"tagline\":false},\"wgRelatedArticles\":null,\"wgRelatedArticlesUseCirrusSearch\":true,\"wgRelatedArticlesOnlyUseCirrusSearch\":false,\"wgWMESchemaEditAttemptStepOversample\":false,\"wgPoweredByHHVM\":true,\"wgULSCurrentAutonym\":\"English\",\"wgNoticeProject\":\"wikipedia\",\"wgCentralNoticeCookiesToDelete\":[],\"wgCentralNoticeCategoriesUsingLegacy\":[\"Fundraising\",\"fundraising\"],\"wgWikibaseItemId\":\"Q4049046\",\"wgScoreNoteLanguages\":{\"arabic\":\"العربية\",\"catalan\":\"català\",\"deutsch\":\"Deutsch\",\"english\":\"English\",\"espanol\":\"español\",\"italiano\":\"italiano\",\"nederlands\":\"Nederlands\",\"norsk\":\"norsk\",\"portugues\":\"português\",\"suomi\":\"suomi\",\"svenska\":\"svenska\",\"vlaams\":\"West-Vlams\"},\"wgScoreDefaultNoteLanguage\":\"nederlands\",\"wgCentralAuthMobileDomain\":false,\"wgCodeMirrorEnabled\":true,\"wgVisualEditorToolbarScrollOffset\":0,\"wgVisualEditorUnsupportedEditParams\":[\"undo\",\"undoafter\",\"veswitched\"],\"wgEditSubmitButtonLabelPublish\":true,\"oresWikiId\":\"enwiki\",\"oresBaseUrl\":\"http://ores.discovery.wmnet:8081/\",\"oresApiVersion\":3});mw.loader.state({\"ext.gadget.charinsert-styles\":\"ready\",\"ext.globalCssJs.user.styles\":\"ready\",\"ext.globalCssJs.site.styles\":\"ready\",\"site.styles\":\"ready\",\"noscript\":\"ready\",\"user.styles\":\"ready\",\"ext.globalCssJs.user\":\"ready\",\"ext.globalCssJs.site\":\"ready\",\"user\":\"ready\",\"user.options\":\"ready\",\"user.tokens\":\"loading\",\"ext.cite.styles\":\"ready\",\"mediawiki.legacy.shared\":\"ready\",\"mediawiki.legacy.commonPrint\":\"ready\",\"mediawiki.toc.styles\":\"ready\",\"wikibase.client.init\":\"ready\",\"ext.visualEditor.desktopArticleTarget.noscript\":\"ready\",\"ext.uls.interlanguage\":\"ready\",\"ext.wikimediaBadges\":\"ready\",\"ext.3d.styles\":\"ready\",\"mediawiki.skinning.interface\":\"ready\",\"skins.vector.styles\":\"ready\"});mw.loader.implement(\"user.tokens@0tffind\",function($,jQuery,require,module){/*@nomin*/mw.user.tokens.set({\"editToken\":\"+\\\\\\\\\",\"patrolToken\":\"+\\\\\\\\\",\"watchToken\":\"+\\\\\\\\\",\"csrfToken\":\"+\\\\\\\\\"});\\n});RLPAGEMODULES=[\"ext.cite.ux-enhancements\",\"ext.scribunto.logs\",\"site\",\"mediawiki.page.startup\",\"mediawiki.page.ready\",\"mediawiki.toc\",\"mediawiki.searchSuggest\",\"ext.gadget.teahouse\",\"ext.gadget.ReferenceTooltips\",\"ext.gadget.watchlist-notice\",\"ext.gadget.DRN-wizard\",\"ext.gadget.charinsert\",\"ext.gadget.refToolbar\",\"ext.gadget.extra-toolbar-buttons\",\"ext.gadget.switcher\",\"ext.centralauth.centralautologin\",\"mmv.head\",\"mmv.bootstrap.autostart\",\"ext.popups\",\"ext.visualEditor.desktopArticleTarget.init\",\"ext.visualEditor.targetLoader\",\"ext.eventLogging\",\"ext.wikimediaEvents\",\"ext.navigationTiming\",\"ext.uls.eventlogger\",\"ext.uls.init\",\"ext.uls.compactlinks\",\"ext.uls.interface\",\"ext.quicksurveys.init\",\"ext.centralNotice.geoIP\",\"ext.centralNotice.startUp\",\"skins.vector.js\"];mw.loader.load(RLPAGEMODULES);});\\n\\n\\n\\n\\n\\n\\n\\n\\n\\n\\n\\n\\n\\n\\n\\n\\n\\n\\n\\n\\n\\n\\n\\n \\n\\n\\n\\n\\n\\nMarch Comes in Like a Lion \\nFrom Wikipedia, the free encyclopedia \\n Jump to navigation\\nJump to search\\nThis article is about the manga and anime. For the live-action film adaptation, see March Comes in Like a Lion (film).\\nMarch Comes in Like a LionCover of the first manga volume3月のライオン(Sangatsu no Raion)GenreComing-of-age,[1] romantic comedy[2]\\nMangaWritten\\xa0byChica UminoPublished\\xa0byHakusenshaDemographicSeinenMagazineYoung AnimalOriginal runJuly 13, 2007 – presentVolumes14 (List of volumes)\\nAnime television seriesDirected\\xa0byKenjirō OkadaAkiyuki ShinboWritten\\xa0byYukito KizawaMusic\\xa0byYukari HashimotoStudioShaftLicensed\\xa0byNA Aniplex of AmericaUK Anime LimitedOriginal networkNHK GEnglish networkUS TV Japan (subtitled)Original run October 8, 2016  –  March 31, 2018Episodes44 (List of episodes)\\nLive-action films\\nThe Lion of Sangatsu (2017)\\n\\n Anime and Manga portal\\nMarch Comes in Like a Lion (Japanese: 3月のライオン, Hepburn: Sangatsu no Raion, lit. \"The Lion of March\"), is an ongoing manga series by Chica Umino, best known for Honey and Clover.[3][4] It began serialization in Hakusensha\\'s seinen manga magazine Young Animal from its fourteenth issue in 2007 (published on July 13, 2007).[5]\\nHakusensha aired a television commercial announcing the series on numerous Japanese television stations, also posting it on its official website.[3] Thirteen tankōbon volumes of the series have been released as of March 2018. An anime television adaptation by Shaft aired between October 8, 2016 and March 18, 2017 on NHK, with a second season airing from October 14, 2017 to March 31, 2018.[6][7][8] A two-part live-action film adaptation was released in March and April 2017.\\nThe manga has commentary by professional shogi player Manabu Senzaki on shogi rules and culture.\\n\\nContents\\n\\n1 Story\\n2 Characters\\n\\n2.1 Main characters\\n2.2 Kōda family\\n2.3 Professional shōgi players\\n2.4 Other characters\\n\\n\\n3 Media\\n\\n3.1 Manga\\n3.2 Anime\\n3.3 Live-action films\\n\\n\\n4 Reception\\n5 Notes\\n6 References\\n7 External links\\n\\n\\nStory[edit]\\nThe series is set in Tokyo, following the everyday life of a 17-year-old shōgi player, Rei (lit. \"Zero\").[3] Umino based the setting of March Comes in like a Lion on research she conducted herself, whereas she was already familiar with the setting for her earlier work, Honey and Clover.[4]\\nRei is a 17-year-old professional shōgi player who lives by himself. He is estranged from his family and has scarcely any friends. Among his acquaintances is a family which consists of a young woman—Akari Kawamoto—and her younger sisters—Hinata and Momo—who also keep several cats. As the story progresses, Rei deals with his maturing as a player and as a person, while developing his relationships with others, especially the Kawamoto sisters.\\n\\nCharacters[edit]\\nMain characters[edit]\\nRei Kiriyama (桐山 零, Kiriyama Rei)\\nVoiced by: Kengo Kawanishi (Japanese); Khoi Dao (English)[9][10]\\nPlayed by: Ryunosuke Kamiki\\nThe protagonist of the series. 17 years old at the beginning of the series, later turns 18. A five dan in the beginning of the series, he is later promoted to six dan. Rei became a professional shōgi player while in middle school and his achievements soon made him one of the most promising players of his generation. After his parents and sister died in a traffic accident, he was taken in by his father\\'s friend Kōda and became his apprentice in shōgi. After becoming a professional shōgi player and completing middle school, he decided to become independent and not attend high school. However, after feeling a \"need\" to attend school, Rei joins a high school after a one-year delay. He lives in the city of Rokugatsu-chō (June town). Rei is portrayed by Ryunosuke Kamiki in the film.\\nAkari Kawamoto (川本 あかり, Kawamoto Akari)\\nVoiced by: Ai Kayano (Japanese); Laura Post (English)[9][10]\\nPlayed by: Kana Kurashina\\nA resident of Sangatsu-chō (March town), she is the eldest of three sisters. After her mother\\'s death, she starts taking care of her two younger sisters. In the morning, she helps her elderly grandfather run a traditional wagashi (Japanese confectionery) shop, Mikazuki-dō, while in the evening, she works as a hostess for a bar in Ginza, Misaki, which her aunt manages. Akari gets acquainted with Rei when she finds him on the street when his older shogi rivals got him drunk and abandoned him; she takes him to her home and looks after him all night, which starts Rei\\'s close relationship with the family. She often calls Rei \"Rei-kun\". Akari is portrayed by Kana Kurashina in the film.\\nHinata Kawamoto (川本 ひなた, Kawamoto Hinata)\\nVoiced by: Kana Hanazawa (Japanese); Kayli Mills (English)[9][10]\\nPlayed by: Kaya Kiyohara\\nThe second of the three sisters. A middle school student. She sleeps in late in the mornings till the very last minute and often makes bentos by herself. She calls Rei \"Rei-chan\". Like her elder sister Akari, she likes taking care of Rei, who develops romantic feelings for her as the series progresses. She has a strong loyalty towards her friends and family. She aspires to be as mature as her sister when she gets older. Later she graduates from middle school and enrolls at the same high school where Rei studies. Hinata is portrayed by Kaya Kiyohara in the film.\\nMomo Kawamoto (川本 モモ, Kawamoto Momo)\\nVoiced by: Misaki Kuno (Japanese); Xanthe Huynh (English)[9][10]\\nPlayed by: Chise Niitsu\\nThe youngest of the three sisters. A preschool student, she attends a daycare center. Pure and innocent, she has a bit of a selfish streak at times. Her favorite anime character is Bodoro (modelled on My Neighbour Totoro\\'s Totoro). She calls Rei \"Rei-chan\". Momo is portrayed by Chise Niitsu in the film.\\nKōda family[edit]\\nMasachika Kōda (幸田 柾近, Kōda Masachika)\\nVoiced by: Tōru Ōkawa (Japanese); Cam Clarke (English)[11][10]\\nPlayed by: Etsushi Toyokawa\\nRei\\'s shōgi teacher, a pro eight dan. He was both Rei\\'s father\\'s friend and rival in shōgi. After Rei\\'s parents died, he adopts Rei and guides him in shogi. He is serious about shogi and is very strict with his biological children when they were studying it themselves. Because of the attention that their father showed Rei, both the Koda children grew to resent Rei and treated him poorly as he was growing up in their household. Kōda Eight Dan is portrayed by Etsushi Toyokawa in the film.\\nKyōko Kōda (幸田 香子, Kōda Kyōko)\\nVoiced by: Marina Inoue (Japanese); Lauren Landa (English)[11][10]\\nPlayed by: Kasumi Arimura\\nKōda\\'s daughter. She is four years older than Rei. Beautiful and hot tempered, Kyōko seems to hold a grudge on Rei as she has the habit of exerting a negative influence on him by discouraging him purposefully before his matches. She appears to be in love with Masamune Gotō Nine Dan, a married man. When she was younger, she was openly hostile to Rei when he first joins the family because she is jealous of the attention her father gives Rei. She aspired to become a shōgi professional but was discouraged by her father as the field was dominated by men and she was not talented enough to be a part of it. She often goes to Rei\\'s apartment whenever she is feeling lonely. Later on, she admits to herself that she was unfair to Rei because she realizes that he wasn\\'t trying to steal her family, rather, he just wanted to be part of one.\\nAyumu Kōda (幸田 歩, Kōda Ayumu)\\nKōda\\'s son and Kyōko\\'s younger brother. He is of the same age as Rei. After losing to Rei in shōgi, he stopped playing at all, and afterwards started confining himself to his room and only playing video games.\\nProfessional shōgi players[edit]\\nHarunobu Nikaidō (二海堂 晴信, Nikaidō Harunobu)\\nVoiced by: Nobuhiko Okamoto (Japanese); Zach Aguilar (English)[8][10]\\nPlayed by: Shota Sometani\\nRei\\'s self-proclaimed \"best friend\" and \"lifelong rival\". A four dan, he has played with Rei since they were children. Even though he appears to be healthy, he is in fact chronically ill, which has contributed to his obesity. He is from an extremely wealthy family. He is modelled after actual real-life shōgi player Satoshi Murayama.\\nKai Shimada (島田 開, Shimada Kai)\\nVoiced by: Shinichiro Miki (Japanese); Kirk Thornton (English)[11]\\nPlayed by: Kuranosuke Sasaki\\nIn his late 30s, of the same age as Tōji Sōya. Eight dan. He is a senior fellow student of Nikaidō, who he takes care of like his own little brother. He is a gentle tempered person and is naturally inclined to look after younger shōgi players. But he is also an incredibly tough soldier in shōgi. He hosts the \"Shimada shōgi study groups\", which he invited Rei to join. He originally comes from a rural area. In his youth, he had to work long hours on the farm and relied on his fellow villagers\\' donations to support his shōgi study in Tokyo. He has chronic stomach pain because of the stress from his matches. The president of the shogi association often laments that Shimada is not charismatic or as good looking as the meijin, Soya, who is his same age. Shimada is portrayed by Kuranosuke Sasaki in the film.\\nMasamune Gotō (後藤 正宗, Gotō Masamune)\\nVoiced by: Hiroki Tōchi (Japanese); Ray Chase (English)\\nPlayed by: Hideaki Ito\\nIn his early 40s. Nine dan. A tall and muscular man with a stern and frightening face. His wife is in a coma and appears to have been hospitalized for a long time. He was a younger fellow pupil of Masachika Kōda, whose daughter Kyōko he appears to have a very complicated relationship with, though he calls her a \"stalker\". Rei sees him as a main antagonist in life for he thinks Gotō is having an affair with Kyōko and breaking her heart. He had an altercation with Rei where he punches him when he was confronted for his improper relationship with Kyoko. Even though she loves Goto, Kyoko is the one who often helps him get gifts for his comatose wife. He is generally very forthright and impatient to the point of being arrogant, but he also doesn\\'t hesitate to stand up for Shimada when he overhears some other players making demeaning comments about him. Gotō is portrayed by Hideaki Ito in the film.\\nTōji Sōya (宗谷 冬司, Sōya Tōji)\\nVoiced by: Akira Ishida (Japanese); Todd Haberkorn (English)[11]\\nPlayed by: Ryo Kase\\nThe current meijin. He has longed for a rival like Rei. Similar to Rei, he became a professional shōgi player in middle school and several players who faced both pointed that their playing styles are very similar. He became the youngest ever meijin at age 21. Later in the story it\\'s revealed that he has intermittent hearing loss due to unknown cause. He is portrayed by Ryo Kase in the film.\\nIssa Matsumoto (松本 一砂, Matsumoto Issa)\\nVoiced by: Subaru Kimura (Japanese); Doug Erholtz (English)[11][10]\\nPlayed by: Hiroyuki Onoue\\n26 years old. Five dan. He is 181 centimeters tall. A quite expressive and enthusiastic person, he can be aggressive at times as well. He comes from the countryside. He is a fan of Akari.\\nTatsuyuki Misumi (三角 龍雪, Misumi Tatsuyuki)\\nVoiced by: Tomokazu Sugita (Japanese); Robbie Daymond (English)[11][10]\\nPlayed by: Tomoya Nakamura\\n26 years old. Six dan.  He is often called \"Sumisu\" (for \"Smith\"). He is 180 centimeters tall.  A bit aloof, he gets along well with Matsumoto.\\nTakeshi Tsujii (辻井 武史, Tsujii Takeshi)\\nVoiced by: Yuichi Nakamura (Japanese); Xander Mobus (English)\\nA 9 dan professional shougi player, ranked A for the past 8 years, Tsujii Takeshi is a lover wordplay and craves public attention. Other people within the shougi world calls him \\'a waste of good looks\\' due to his propensity for dad jokes and terrible puns. He is usually the only one to laugh at his own gags. Tsujii played against Rei during the quarterfinals of the 20th Lion King Tournament.\\nShōichi Matsunaga (松永 正一, Matsunaga Shōichi)\\nVoiced by: Kazuo Oka (Japanese); Steve Kramer (English)\\n65 years old. A seven dan. He is a veteran who has been a professional shōgi player for over 40 years. He comes from Fukushima.\\nManabu Yasui (安井学, Yasui Manabu)\\nVoiced by: Mitsuo Iwata (Japanese); Joe J. Thomas (English)\\nA six dan. Upon losing a match, he lost his temper, thus resulting in him divorcing his wife.\\nRaidō Fujimoto (藤本 雷堂, Fujimoto Raidō)\\nVoiced by: Akio Ōtsuka (Japanese); Taylor Henry (English)\\n', ' Dragon titleholder. Passionate about eventually dethroning Sōya. He temporarily separates from his wife when he thinks a hostess from a bar has genuine affection for him.\\nOther characters[edit]\\nYūsuke Takahashi (高橋 勇介, Takahashi Yūsuke)\\nVoiced by: Yoshimasa Hosoya (Japanese); Chris Hackney (English)[11][10]\\nA middle school student. A childhood friend and classmate of Hinata\\'s, he is her first crush. He is the son of a milkman. He is the ace of his school\\'s baseball team and aims to be a pro. Since Rei became a shōgi pro in middle school, Yūsuke greatly looks up to him. His father and grandfather are both fans of Rei. He is very straightforward and encourages Hinata during the time she was being bullied. In order to realize his dream to become a professional, he moves to a high school in Shikoku seeking to participate in the kōshien baseball tournament, much to Hinata\\'s sadness.\\nSomeji Kawamoto (川本 相米二, Kawamoto Someji)\\nVoiced by: Shigeru Chiba[11]\\nThe grandfather of the three Kawamoto sisters. He runs a traditional wagashi shop, Mikazuki-dō. Even though he gives off an impression of a grumpy old man, he actually dotes on his grandchildren a lot, in particular Momo, and aims to live long enough to send them away for their marriages. He is incredibly passionate about being the sole male protector of the family.\\nHanaoka (花岡)\\nVoiced by: Yōji Ueda (Japanese); Doug Stone (English)[10]\\nThe butler of the Nikaidō family, who has been in continuous service for them for over 45 years. A gentle and kind elderly man, he has been taking care of Harunobu ever since he was a baby.\\nTakashi Hayashida (林田 高志, Hayashida Takashi)\\nVoiced by: Takahiro Sakurai (Japanese); Keith Silverstein (English)[11][10]\\nA teacher of the high school where Rei decided to join. He is a big fan of shōji and regularly reads shōgi magazines. He is the only one in the high school who had heard of Rei being a professional shōgi player though when he first knew of him joining, he presumed he only had the same surname. He speaks in a very friendly manner with Rei and is often concerned with his wellbeing, always thinking of ways to help him socialize with others. He later develops feelings for Akari.\\nMisaki (美咲)\\nVoiced by: Michiko Neya (Japanese); Wendee Lee (English)[10]\\nThe aunt of the three Kawamoto sisters. She, helped by Akari, manages a bar in Ginza called \"Misaki\". She has a strong and confident personality and employs Akari to work at her bar so she can at least spend one night a week to dress up so she doesn\\'t lose herself to a state of only being a mother to her younger sisters. She encourages Rei to bring his fellow shogi players to the bar so she can make money off of them.\\nEisaku Noguchi (野口 英作, Noguchi Eisaku)\\nVoiced by: Yūji Ueda (Japanese); Arnie Pantoja (English)\\nPresident of the Burners club (as in Bunsen burner), a chemistry club in the school Rei goes to. Because he has a mustache, everyone assumes he is Rei\\'s teacher.\\nSeijirō\\nThe father of the three Kawamoto sisters. He left them and their mother when Momo was still a baby to live with another woman and returns several years later, after a long time without contacting them once. Once Misaki warns Rei about him, Rei makes his own investigation about Seijirō and discovers that he kept leading an irresponsible life, involving himself with other women and abandoning them on his own whim, just like he did with Akari, Hinata and Momo\\'s mother. After Rei exposes Seijirō, the sisters reject his plea to raise their half-sister, daughter of one of his other women, and he leaves with her to never return.\\nThe cats\\nThe three cats of the Kawamoto household. The first two cats, the black and white and orange ones, were the first two gathered, while the white cat is a new arrival. Their names are unknown. They are big-eyed and always apparently hungry. The third cat looks strikingly like an owl.\\nMedia[edit]\\nManga[edit]\\nThe series has been serialized by Hakusensha in Young Animal since 2007 in issue #14. As of September 29, 2017, the series has been collected in thirteen tankōbon volumes.[12]\\n\\n\\nNo.Release date ISBN\\n1 February 22, 2008[13].mw-parser-output cite.citation{font-style:inherit}.mw-parser-output .citation q{quotes:\"\\\\\"\"\"\\\\\"\"\"\\'\"\"\\'\"}.mw-parser-output .citation .cs1-lock-free a{background:url(\"//upload.wikimedia.org/wikipedia/commons/thumb/6/65/Lock-green.svg/9px-Lock-green.svg.png\")no-repeat;background-position:right .1em center}.mw-parser-output .citation .cs1-lock-limited a,.mw-parser-output .citation .cs1-lock-registration a{background:url(\"//upload.wikimedia.org/wikipedia/commons/thumb/d/d6/Lock-gray-alt-2.svg/9px-Lock-gray-alt-2.svg.png\")no-repeat;background-position:right .1em center}.mw-parser-output .citation .cs1-lock-subscription a{background:url(\"//upload.wikimedia.org/wikipedia/commons/thumb/a/aa/Lock-red-alt-2.svg/9px-Lock-red-alt-2.svg.png\")no-repeat;background-position:right .1em center}.mw-parser-output .cs1-subscription,.mw-parser-output .cs1-registration{color:#555}.mw-parser-output .cs1-subscription span,.mw-parser-output .cs1-registration span{border-bottom:1px dotted;cursor:help}.mw-parser-output .cs1-ws-icon a{background:url(\"//upload.wikimedia.org/wikipedia/commons/thumb/4/4c/Wikisource-logo.svg/12px-Wikisource-logo.svg.png\")no-repeat;background-position:right .1em center}.mw-parser-output code.cs1-code{color:inherit;background:inherit;border:inherit;padding:inherit}.mw-parser-output .cs1-hidden-error{display:none;font-size:100%}.mw-parser-output .cs1-visible-error{font-size:100%}.mw-parser-output .cs1-maint{display:none;color:#33aa33;margin-left:0.3em}.mw-parser-output .cs1-subscription,.mw-parser-output .cs1-registration,.mw-parser-output .cs1-format{font-size:95%}.mw-parser-output .cs1-kern-left,.mw-parser-output .cs1-kern-wl-left{padding-left:0.2em}.mw-parser-output .cs1-kern-right,.mw-parser-output .cs1-kern-wl-right{padding-right:0.2em}ISBN\\xa0978-4-59-214511-0\\nChapter 1\\xa0: \"Kiriyama Rei\"\\nChapter 2\\xa0: \"The Town along the River\"\\nChapter 3\\xa0: \"Akari\"\\nChapter 4\\xa0: \"Across the Bridge\"\\nChapter 5\\xa0: \"Harunobu\"\\n\\nChapter 6\\xa0: \"Beyond the Night Sky\"\\nChapter 7\\xa0: \"Hina\"\\nChapter 8\\xa0: \"Comparison\"\\nChapter 9\\xa0: \"A Contract\"\\nChapter 10\\xa0: \"Over the Cuckoo\\'s Nest\"\\n\\n2 November 28, 2008[14][a]ISBN\\xa0978-4-59-214512-7\\nChapter 11\\xa0: \"God\\'s Child (Part 1)\"\\nChapter 12\\xa0: \"God\\'s Child (Part 2)\"\\nChapter 13\\xa0: \"God\\'s Child (Part 3)\"\\nChapter 14\\xa0: \"Important Things. Important Matters.\"\\nChapter 15\\xa0: \"Teach Me ', '\"\\nChapter 16\\xa0: \"Image\"\\n\\nChapter 17\\xa0: \"Distant Thunder (Part 1)\"\\nChapter 18\\xa0: \"Distant Thunder (Part 2)\"\\nChapter 19\\xa0: \"Distant Thunder (Part 3)\"\\nChapter 20\\xa0: \"A Gift (Part 1)\"\\nChapter 21\\xa0: \"A Gift (Part 2)\"\\n\\n3 August 12, 2009[16]ISBN\\xa0978-4-59-214513-4\\nChapter 22\\xa0: \"Year Out\"\\nChapter 23\\xa0: \"Year In\"\\nChapter 24\\xa0: \"What Lies on the Other Shore\"\\nChapter 25\\xa0: \"Black River (Part 1)\"\\nChapter 26\\xa0: \"Black River (Part 2)\"\\nChapter 27\\xa0: \"Beyond the Door\"\\n\\nChapter 28\\xa0: \"Blinding Darkness\"\\nChapter 29\\xa0: \"Just a Bit of Water\"\\nChapter 30\\xa0: \"Moonlight\"\\nChapter 31\\xa0: \"Mass of Ego\"\\nChapter 32\\xa0: \"Run Through the Night\"\\n\\n4 April 9, 2010[17]ISBN\\xa0978-4-59-214514-1\\nChapter 33\\xa0: \"Partway Down the Hill\"\\nChapter 34\\xa0: \"Silver Thread\"\\nChapter 35\\xa0: \"Water\\'s Surface\"\\nChapter 36\\xa0: \"Under the Warm Night\"\\nChapter 37\\xa0: \"Torrent\"\\n\\nChapter 38\\xa0: \"Passing Time\"\\nChapter 39\\xa0: \"The Night Passes\"\\nChapter 40\\xa0: \"Kyoto (Part 1)\"\\nChapter 41\\xa0: \"Kyoto (Part 2)\"\\nChapter 42\\xa0: \"Kyoto (Part 3)\"\\n\\n5 November 26, 2010[18]ISBN\\xa0978-4-59-214515-8\\nChapter 43\\xa0: \"When Cherry Blossoms Bloom\"\\nChapter 44\\xa0: \"Tiny Murmur\"\\nChapter 45\\xa0: \"New Semester\"\\nChapter 46\\xa0: \"Western Sun\"\\nChapter 47\\xa0: \"Lamune\"\\nChapter 48\\xa0: \"Confusion\"\\n\\nChapter 49\\xa0: \"Kumakura\"\\nChapter 50\\xa0: \"June\"\\nChapter 51\\xa0: \"Ladybug Bush (Part 1)\"\\nChapter 52\\xa0: \"Ladybug Bush (Part 2)\"\\nChapter 53\\xa0: \"Ladybug Bush (Part 3)\"\\n\\n6 July 22, 2011[19]ISBN\\xa0978-4-59-214516-5\\nChapter 54\\xa0: \"Sentiment\"\\nChapter 55\\xa0: \"Confession (Part 1)\"\\nChapter 56\\xa0: \"Confession (Part 2)\"\\nChapter 57\\xa0: \"Letter\"\\nChapter 58\\xa0: \"Start of the Rainy Season\"\\n\\nChapter 59\\xa0: \"Hachiya\"\\nChapter 60\\xa0: \"Midday Moon\"\\nChapter 61\\xa0: \"Adventures\"\\nChapter 62\\xa0: \"Kingdom (Part 1)\"\\nChapter 63\\xa0: \"Kingdom (Part 2)\"\\n\\n7 March 23, 2012[20]ISBN\\xa0978-4-59-214517-2\\nChapter 64\\xa0: \"Silver Wings\"\\nChapter 65\\xa0: \"River Scenery\"\\nChapter 66\\xa0: \"The Place the Sun Shines\"\\nChapter 67\\xa0: \"Small World\"\\nChapter 68\\xa0: \"Black Mist\"\\n\\nChapter 69\\xa0: \"Light\"\\nChapter 70\\xa0: \"Small Palm\"\\nChapter 71\\xa0: \"Sunny Place\"\\nChapter 72\\xa0: \"Flowing Thing\"\\nChapter 73\\xa0: \"White Storm (Part 1)\"\\n\\n8 December 14, 2012[21]ISBN\\xa0978-4-59-214518-9\\nChapter 74\\xa0: \"White Storm (Part 2)\"\\nChapter 75\\xa0: \"White Storm (Part 3)\"\\nChapter 76\\xa0: \"White Storm (Part 4)\"\\nChapter 77\\xa0: \"White Storm (Part 5)\"\\nChapter 78\\xa0: \"Restart\"\\n\\nChapter 79\\xa0: \"Burnt Field (Part 1)\"\\nChapter 80\\xa0: \"Burnt Field (Part 2)\"\\nChapter 81\\xa0: \"Burnt Field (Part 3)\"\\nChapter 82\\xa0: \"Burnt Field (Part 4)\"\\nChapter 83\\xa0: \"Being Here\"\\n\\n9 September 27, 2013[22]ISBN\\xa0978-4-59-214519-6\\nChapter 84\\xa0: \"Summer Vacation (Part 1)\"\\nChapter 85\\xa0: \"Summer Vacation (Part 2)\"\\nChapter 86\\xa0: \"New Year\"\\nChapter 87\\xa0: \"Passing Time\"\\nChapter 88\\xa0: \"Spring Comes\"\\nChapter 89\\xa0: \"The Children of Sangatsu Town\"\\n\\nChapter 90\\xa0: \"The Man Called a Grim Reaper\"\\nChapter 91\\xa0: \"Family (Part 1)\"\\nChapter 92\\xa0: \"Family (Part 2)\"\\nChapter 93\\xa0: \"Bug\"\\nChapter 94\\xa0: \"Family (Part 3)\"\\n\\n10 November 28, 2014[23]ISBN\\xa0978-4-59-214520-2\\nChapter 95\\xa0: \"New Days\"\\nChapter 96\\xa0: \"Lunch Break\"\\nChapter 97\\xa0: \"Other Home\"\\nChapter 98\\xa0: \"Soft Wind\"\\nChapter 99\\xa0: \"A Town Where it Rains\"\\n\\nChapter 100\\xa0: \"Swimming Man (Part 1)\"\\nChapter 101\\xa0: \"Swimming Man (Part 2)\"\\nChapter 102\\xa0: \"Visitor (Part 1)\"\\nChapter 103\\xa0: \"Visitor (Part 2)\"\\nChapter 104\\xa0: \"Promise\"\\n\\n11 September 25, 2015[24]ISBN\\xa0978-4-59-214521-9\\nChapter 105\\xa0: \"A Small Talk\"\\nChapter 106\\xa0: \"Fun Dinner\"\\nChapter 107\\xa0: \"Osaka (Part 1)\"\\nChapter 108\\xa0: \"Osaka (Part 2)\"\\nChapter 109\\xa0: \"Osaka (Part 3)\"\\n\\nChapter 110\\xa0: \"Osaka (Part 4)\"\\nChapter 111\\xa0: \"The Night the Cuckoo Sang\"\\nChapter 112\\xa0: \"Sunday (Part 1)\"\\nChapter 113\\xa0: \"Sunday (Part 2)\"\\nChapter 114\\xa0: \"Gentle Song\"\\n\\n12 September 29, 2016[25]ISBN\\xa0978-4-59-214522-6\\nChapter 115\\xa0: \"Party Invitation\"\\nChapter 116\\xa0: \"The Tale of Elizabeth the Faithful Dog\"\\nChapter 117\\xa0: \"The Satsuma Arc (Part 1)\"\\nChapter 118\\xa0: \"The Satsuma Arc (Part 2)\"\\nChapter 119\\xa0: \"The Satsuma Arc (Part 3)\"\\nChapter 120\\xa0: \"The Satsuma Arc (Part 4)\"\\nChapter 121\\xa0: \"The Path Lit by the Paper Lanterns (Part 1)\"\\n\\nChapter 122\\xa0: \"The Path Lit by the Paper Lanterns (Part 2)\"\\nChapter 123\\xa0: \"The Path Lit by the Paper Lanterns (Part 3)\"\\nChapter 124\\xa0: \"The Path Lit by the Paper Lanterns (Part 4)\"\\nChapter 125\\xa0: \"The Path Lit by the Paper Lanterns (Part 5)\"\\nChapter 126\\xa0: \"The Night of the Summer Festival\"\\n\\n13 September 29, 2017[12]ISBN\\xa0978-4-59-214523-3\\nChapter 127\\xa0: \"Distant Fireworks\"\\nChapter 128\\xa0: \"Ginza\"\\nChapter 129\\xa0: \"The Wind\\'s 20,000 Miles (Part 1)\"\\nChapter 130\\xa0: \"Midsummer\\'s End\"\\nChapter 131\\xa0: \"The Wind\\'s 20,000 Miles (Part 2)\"\\nChapter 132\\xa0: \"The Wind\\'s 20,000 Miles (Part 3)\"\\nChapter 133\\xa0: \"The Wind\\'s 20,000 Miles (Part 4)\"\\n\\nChapter 134\\xa0: \"The Wind\\'s 20,000 Miles (Part 5)\"\\nChapter 135\\xa0: \"The Wind\\'s 20,000 Miles (Part 6)\"\\nChapter 136\\xa0: \"The Smell of Rain\"\\nChapter 137\\xa0: \"The Smell of the Rain, the Smell of the River (Part 1)\"\\nChapter 138\\xa0: \"The Smell of the Rain, the Smell of the River (Part 2)\"\\nChapter 139\\xa0: \"The Thing Lying Right in Front of Your Eyes\"\\n\\n14 December 21, 2018[12]—\\nChapter 140\\xa0: \"Fluffy Treasure\"\\nChapter 141\\xa0: \"Nostalgic Flavor (Part 1)\"\\nChapter 142\\xa0: \"Nostalgic Flavor (Part 2)\"\\nChapter 143\\xa0: \"By the Side of the Red Bridge (Part 1)\"\\nChapter 144\\xa0: \"By the Side of the Red Bridge (Part 2)\"\\nChapter 145\\xa0: \"By the Side of the Red Bridge (Part 3)\"\\nChapter 146\\xa0: \"By the Side of the Red Bridge (Part 4)\"\\n\\nChapter 147\\xa0: \"By the Side of the Red Bridge (Part 5)\"\\nChapter 148\\xa0: \"Autumn Scenery (Part 1)\"\\nChapter 149\\xa0: \"Autumn Scenery (Part 2)\"\\nChapter 150\\xa0: \"Autumn Scenery (Part 3)\"\\nChapter 151\\xa0: \"Autumn Scenery (Part 4)\"\\nChapter 152\\xa0: \"Autumn Scenery (Part 5)\"\\n\\n\\nAnime[edit]\\nSee also: List of March Comes in Like a Lion episodes\\nAn anime television series adaptation was announced in the Young Animal magazine\\'s 19th issue of 2015 on September 25, 2015.[26] The 22-episode[27] series is produced by Shaft and directed by Akiyuki Shinbo and Kenjirō Okada, featuring character designs by Nobuhiro Sugiyama and music composed by Yukari Hashimoto.[7][28] The anime\\'s first opening and ending theme songs are performed by Bump of Chicken,[29] titled \"Answer\" and \"Fighter\", respectively.[30] Yuki will perform the series\\' second opening theme song, titled \"Goodbye Bystander\", while Kenshi Yonezu will perform the series\\' second ending theme song, titled \"Orion\".[31]\\nSeason one of the anime began airing on October 8, 2016 on NHK G and finished airing on March 18, 2017 with a total of 22 episodes.[8] The series has been licensed by Aniplex of America and Anime Limited for North America and the United Kingdom, respectively.[32][33] Crunchyroll simulcasted the series in their Fall 2016 line-up.[34] A second season, announced at the end of the first season\\'s final episode, premiered on October 14, 2017 and finished airing on March 31, 2018 with a total of 22 episodes.[35][36] Crunchyroll streamed the second season.[37]\\n\\nLive-action films[edit]\\nMain article: March Comes in Like a Lion (film)\\nA two-part live action film adaptation of the same name directed by Keishi Ōtomo\\xa0[ja], starring Ryunosuke Kamiki and distributed by Toho and Asmik Ace was released in two parts in 2017, with the first part released on March 18 and the second released on April 22.[38][39][40]\\n\\nReception[edit]\\nIn 2009, the series was nominated for the 2nd Annual Manga Taishō,[41] and it won this award in 2011.[42] Also in 2011 it won the Kodansha Manga Award in the general category (shared with Chūya Koyama\\'s Space Brothers).[43] In 2014, it won the Grand Prize of the 18th Tezuka Osamu Cultural Prize.[44]\\n\\nNotes[edit]\\n\\n\\n^ The second volume of the manga featured an alternate cover illustrated by Berserk manga artist Kentarō Miura[15]\\n\\n\\nReferences[edit]\\n\\n\\n^ \"Aniplex of America Announces March comes in like a lion Season 2 Acquisition and Season 1 Release on Blu-ray with English Dub\". Anime News Network. Retrieved July 28, 2018.\\n\\n^ 3月のライオン(1巻). 白泉社e-net! (in Japanese). Hakusensha. Retrieved July 8, 2018.\\n\\n^ a b c \"Chika Umino, Kazuhiro Kumagai, Shokotan\\'s Newest Manga\". Anime News Network. 2007-07-16. Archived from the original on 2007-08-18. Retrieved 2007-07-26.\\n\\n^ a b \"Honey & Clover\\'s Umino to Start Manga in Young Animal\". Anime News Network. 2007-04-30. Archived from the original on 2007-08-09. Retrieved 2007-07-26.\\n\\n^ \"Honey & Clover\\'s Chika Umino\\'s Latest to Start July 13\". Anime News Network. 2007-06-22. Archived from the original on 2007-11-02. Retrieved 2007-07-26.\\n\\n^ \"Madoka Magica\\'s Akiyuki Simbo Helms March comes in like a lion Anime at Shaft Studio\". Anime News Network. 2016-01-05. Archived from the original on 2016-01-05. Retrieved 2016-01-05.\\n\\n^ a b \"Shaft\\'s March comes in like a lion TV Anime Premieres in Fall\". Anime News Network. 2016-01-07. Archived from the original on 2016-01-07. Retrieved 2016-01-07.\\n\\n^ a b c \"March comes in like a lion Anime Premieres on October 8\". Anime News Network. 2016-09-02. Archived from the original on 2016-09-02. Retrieved 2016-09-02.\\n\\n^ a b c d \"March comes in like a lion TV Anime\\'s Cast, October Premiere Revealed\". Anime News Network. 2016-07-21. Archived from the original on 2016-07-22. Retrieved 2016-07-21.\\n\\n^ a b c d e f g h i j k l m \"Aniplex USA Reveals English Dub Cast for March Comes in like a Lion Anime\". Anime News Network. October 1, 2017. Archived from the original on October 4, 2017. Retrieved October 1, 2017.\\n\\n^ a b c d e f g h i \"March comes in like a lion Anime Casts Marina Inoue, Takahiro Sakurai, More\". Anime News Network. 2016-08-18. Archived from the original on 2016-09-09. Retrieved 2016-08-18.\\n\\n^ a b c 3月のライオン 13 (in Japanese). Hakusensha. Archived from the original on 2018-01-11. Retrieved 2018-01-10. Cite error: Invalid <ref> tag; name \"RecentVol\" defined multiple times with different content (see the help page).\\n\\n\\n^ 3月のライオン 1 (in Japanese). Hakusensha. Archived from the original on 2016-10-12. Retrieved 2016-12-03.\\n\\n^ 3月のライオン 2 (in Japanese). Hakusensha. Archived from the original on 2016-10-12. Retrieved 2016-12-03.\\n\\n^ \"March Comes in Like a Lion\\'s Cover by Berserk\\'s Miura\". Anime News Network. 2009-01-06. Archived from the original on 2009-01-23. Retrieved 2009-01-17.\\n\\n^ 3月のライオン 3 (in Japanese). Hakusensha. Archived from the original on 2016-10-12. Retrieved 2016-12-03.\\n\\n^ 3月のライオン 4 (in Japanese). Hakusensha. Archived from the original on 2016-10-12. Retrieved 2016-12-03.\\n\\n^ 3月のライオン 5 (in Japanese). Hakusensha. Archived from the original on 2016-10-12. Retrieved 2016-12-03.\\n\\n^ 3月のライオン 6 (in Japanese). Hakusensha. Archived from the original on 2016-10-12. Retrieved 2016-12-03.\\n\\n^ 3月のライオン 7 (in Japanese). Hakusensha. Archived from the original on 2016-10-12. Retrieved 2016-12-03.\\n\\n^ 3月のライオン 8 (in Japanese). Hakusensha. Archived from the original on 2016-10-12. Retrieved 2016-12-03.\\n\\n^ 3月のライオン 9 (in Japanese). Hakusensha. Archived from the original on 2016-10-12. Retrieved 2016-12-03.\\n\\n^ 3月のライオン 10 (in Japanese). Hakusensha. Archived from the original on 2016-10-12. Retrieved 2016-12-03.\\n\\n^ 3月のライオン 11 (in Japanese). Hakusensha. Archived from the original on 2016-10-12. Retrieved 2016-12-03.\\n\\n^ 3月のライオン 12 (in Japanese). Hakusensha. Archived from the original on 2016-10-12. Retrieved 2016-12-03.\\n\\n^ \"March comes in like a lion Manga Gets TV Anime, Live-Action Film\". Anime News Network. 2015-09-19. Archived from the original on 2016-03-16. Retrieved 2016-03-24.\\n\\n^ \"Shaft\\'s March comes in like a lion Anime Listed With 22 Episodes\". Anime News Network. 2016-07-15. Archived from the original on 2016-07-16. Retrieved 2016-07-15.\\n\\n^ \"SHAFT\\'s March comes in like a lion Anime Reveals Main Staff\". Anime News Network. 2016-03-24. Archived from the original on 2016-03-26. Retrieved 2016-03-24.\\n\\n^ \"Bump of Chicken to Perform March comes in like a lion Anime Theme Songs\". Anime News Network. 2016-07-14. Archived from the original on 2016-07-15. Retrieved 2016-07-14.\\n\\n^ \"March comes like a lion TV Anime\\'s Promo Video Previews Bump of Chicken\\'s Song\". Anime News Network. 2016-09-18. Archived from the original on 2016-10-31. Retrieved 2016-12-08.\\n\\n^ \"Yuki, Kenshi Yonezu to Perform March comes in like a lion Anime\\'s New Theme Songs\". Anime News Network. 2016-12-08. Archived from the original on 2016-12-08. Retrieved 2016-12-08.\\n\\n^ \"Aniplex USA Licenses March comes in like a lion, Occultic;Nine Anime\". Anime News Network. 2016-10-02. Archived from the original on 2016-10-02. Retrieved 2016-10-02.\\n\\n^ \"Newswire #94 - 4th Nov 2016\". Anime Limited. Archived from the original on 2017-01-18. Retrieved 2017-01-17.\\n\\n^ \"March Comes in Like A Lion – Release, PV, Key Visual, News & Characters Designs\". Nagame Digital. Retrieved 2016-10-09.\\n\\n^ \"March comes in like a lion Manga Gets 2nd TV Anime Series in October\". Anime News Network. March 18, 2017. Archived from the original on March 19, 2017. Retrieved March 18, 2017.\\n\\n^ \"March comes in like a lion Anime\\'s 2nd Season Reveals October 14 Premiere, Visual, 22 Episode Count\". Anime News Network. August 21, 2017. Archived from the original on December 25, 2017. Retrieved August 21, 2017.\\n\\n^ \"Crunchyroll Streams March comes in like a lion 2nd Season, The Idolm@ster SideM Anime\". Anime News Network. October 1, 2017. Archived from the original on October 1, 2017. Retrieved October 1, 2017.\\n\\n^ \"Live-Action March comes in like a lion Films\\' Additional Cast, March & April Openings Revealed\". Anime News Network. September 11, 2016. Archived from the original on September 23, 2016. Retrieved September 24, 2016.\\n\\n^ \"3月のライオン\\u3000前編\". eiga.com (in Japanese). Archived from the original on September 27, 2016. Retrieved September 24, 2016.\\n\\n^ \"3月のライオン\\u3000後編\". eiga.com (in Japanese). Archived from the original on September 25, 2016. Retrieved September 24, 2016.\\n\\n^ \"10 Titles Nominated for 2nd Manga Taisho Awards\". Anime News Network. 2009-01-18. Archived from the original on 2009-05-24. Retrieved 2009-06-14.\\n\\n^ \"Umino\\'s March comes in like a lion Wins Manga Taisho\". Anime News Network. 2011-03-17. Archived from the original on 2014-03-15. Retrieved 2011-05-15.\\n\\n^ \"March comes in like a lion, Space Bros. Win Kodansha Manga Awards\". Anime News Network. 2011-05-12. Archived from the original on 2013-06-09. Retrieved 2011-05-15.\\n\\n^ \"March comes in like a lion Wins 18th Tezuka Osamu Prizes\\' Top Award\". Anime News Network. 2014-03-24. Archived from the original on 2014-08-09. Retrieved 2014-07-30.\\n\\n\\nExternal links[edit]\\nMarch Comes in like a Lion at Young Animal (in Japanese)\\nOfficial anime website (in Japanese)\\nOfficial live-action website (in Japanese)\\nMarch Comes in Like a Lion (manga) at Anime News Network\\'s encyclopedia\\nvteKodansha Manga Award – General1980s\\nKaryūdo no Seiza by Machiko Satonaka (1982)\\nP.S. Genki Desu, Shunpei by Fumi Saimon (1983)\\nAkira by Katsuhiro Otomo (1984)\\nOkashi na Futari by Jūzō Yamasaki (1985)\\nAdolf by Osamu Tezuka and What\\'s Michael? by Makoto Kobayashi (1986)\\nActor by Kaiji Kawaguchi (1987)\\nBonobono by Mikio Igarashi and Be-Bop High School by Kazuhiro Kiuchi (1988)\\nShowa: A History of Japan by Shigeru Mizuki (1989)\\n1990s\\nThe Silent Service by Kaiji Kawaguchi and Gorillaman by Harold Sakuishi (1990)\\nKachō Kōsaku Shima by Kenshi Hirokane and Waru by Jun Fukami (1991)\\nNaniwa Kin\\'yūdō by Yūji Aoki (1992)\\nParasyte by Hitoshi Iwaaki (1993)\\nTetsujin Ganma by Yasuhito Yamamoto (1994)\\nHanada Shōnen Shi by Makoto Isshiki (1995)\\nPing-Pong Club by Minoru Furuya (1996)\\nDragon Head by Minetarō Mochizuki (1997)\\nKaiji by Nobuyuki Fukumoto and Sōten Kōro by King Gonta (1999)\\nWangan Midnight by Michiharu Kusunoki (1999)\\n2000s\\nVagabond by Takehiko Inoue (2000)\\n20th Century Boys by Naoki Urasawa (2001)\\nZipang by Kaiji Kawaguchi (2002)\\nThe Life of Genius Professor Yanagizawa by Kazumi Yamashita (2003)\\nBasilisk by Masaki Segawa (2004)\\nDragon Zakura by Norifusa Mita (2005)\\nMushishi by Yuki Urushibara (2006)\\nBig Windup! by Asa Higuchi (2007)\\nMoyasimon: Tales of Agriculture by Masayuki Ishikawa (2008)\\nOh My Goddess! by Kōsuke Fujishima (2009)\\n2010s\\nGiant Killing by Masaya Tsunamoto (2010)\\nMarch Comes in like a Lion by Chica Umino and Space Brothers by Chūya Koyama (2011)\\nVinland Saga by Makoto Yukimura (2012)\\nGurazeni by Yūji Moritaka and Keiji Adachi and Prison School by Akira Hiramoto (2013)\\nShōwa Genroku Rakugo Shinjū by Haruko Kumota (2014)\\nKnights of Sidonia by Tsutomu Nihei (2015)\\nKōnodori by Yū Suzunoki (2016)\\nThe Fable by Katsuhisa Minami (2017)\\n\\nvteManga Taishō\\nGaku: Minna no Yama by Shinichi Ishizuka (2008)\\nChihayafuru by Yuki Suetsugu (2009)\\nThermae Romae by Mari Yamazaki (2010)\\nMarch Comes in Like a Lion by Chica Umino (2011)\\nSilver Spoon by Hiromu Arakawa (2012)\\nUmimachi Diary by Akimi Yoshida (2013)\\nA Bride\\'s Story by Kaoru Mori (2014)\\nBlank Canvas: My So-Called Artist\\'s Journey by Akiko Higashimura (2015)\\nGolden Kamuy by Satoru Noda (2016)\\nHibiki: Shōsetsuka ni Naru Hōhō by Mitsuharu Yanamoto (2017)\\nBeastars by Paru Itagaki (2018)\\n\\nvteTezuka Osamu Cultural PrizeGrand Prize1990s\\nFujiko Fujio for Doraemon (1997)\\nJiro Taniguchi and Natsuo Sekikawa for the trilogy Bocchan No Jidai (1998)\\nNaoki Urasawa for Monster (1999)\\n2000s\\nDaijiro Morohoshi for Saiyū Yōenden (2000)\\nReiko Okano and Baku Yumemakura for Onmyōji (2001)\\nTakehiko Inoue for Vagabond (2002)\\nFumiko Takano for The Yellow Book: A Friend Named Jacques Thibault (2003)\\nKyoko Okazaki for Helter Skelter (2004)\\nNaoki Urasawa for Pluto (2005)\\nHideo Azuma for Disappearance Diary (2006)\\nRyoko Yamagishi for Terpsichora (2007)\\nMasayuki Ishikawa for Moyashimon (2008)\\nFumi Yoshinaga for Ōoku: The Inner Chambers and Yoshihiro Tatsumi for A Drifting Life (2009)\\n2010s\\nYoshihiro Yamada for Hyouge Mono (2010)\\nMotoka Murakami for Jin and Issei Eifuku and Taiyō Matsumoto for Takemitsuzamurai (2011)\\nHitoshi Iwaaki for Historie (2012)\\nYasuhisa Hara for Kingdom (2013)\\nChica Umino for March Comes in like a Lion (2014)\\nYoiko Hoshi for Aisawa Riku (2015)\\nKei Ichinoseki for Hanagami Sharaku and Kiyohiko Azuma for Yotsuba&! (2016)\\nFusako Kuramochi for Hana ni Somu (2017)\\nSatoru Noda for Golden Kamuy (2018)\\nSpecial Award1990s\\nToshio Naiki (1997)\\nShotaro Ishinomori (1998)\\nFusanosuke Natsume (1999)\\n2000s\\nFrederik L. Schodt (2000)\\nAkira Maruyuma (2001)\\nShigeru Mizuki (2003)\\nTarō Minamoto (2004)\\nKawasaki City Museum (2005)\\nKousei Ono (2006)\\nInternational Institute for Children\\'s Literature, Osaka Prefecture (2008)\\n2010s\\nYoshihiro Yonezawa  (2010)\\nWeekly Shōnen Jump (2012)\\nFujiko Fujio (A) (2014)\\nChikako Mitsuhashi for Chiisana Koi no Monogatari (2015)\\nKyoto International Manga Museum (2016)\\nOsamu Akimoto for Kochira Katsushika-ku Kameari Kōen-mae Hashutsujo (2017)\\nTetsuya Chiba for Ashita no Joe (2018)\\nAward for Excellence\\nMoto Hagio for A Cruel God Reigns (1997)\\nYūji Aoki for Naniwa Kin\\'yūdō (1998)\\nAkira Sasō for Shindō (1999)\\nMinetarō Mochizuki for Dragon Head (2000)\\nKotobuki Shiriagari for Yajikita in Deep (2001)\\nKentaro Miura for Berserk (2002)\\nCreative Award\\nYumi Hotta and Takeshi Obata for Hikaru no Go (2003)\\nTakashi Morimoto for Naniwadora ihon (2004)\\nFumiyo Kōno for Town of Evening Calm, Country of Cherry Blossoms (2005)\\nAsa Higuchi for Big Windup! (2006)\\nNobuhisa Nozoe, Kazuhisa Iwata and Kyojin Ōnishi for Shinsei Kigeki (2007)\\nToranosuke Shimada for Träumerei (2008)\\nNew Artist Prize\\nSuehiro Maruo for The Strange Tale of Panorama Island (2009)\\nHaruko Ichikawa for Mushi to Uta (2010)\\nHiromu Arakawa for Fullmetal Alchemist (2011)\\nYu Itō for Shut Hell (2012)\\nMiki Yamamoto for Sunny Sunny Ann! (2013)\\nMachiko Kyō for Mitsuami no Kamisama (2014)\\nYoshitoki Ōima for A Silent Voice (2015)\\nYuki Andō for Machida-kun no Sekai (2016)\\nHaruko Kumota for Descending Stories: Showa Genroku Rakugo Shinju (2017)\\nParu Itagaki for Beastars (2018)\\nShort Story Award\\nHisaichi Ishii for Gendai Shisō no Sōnanshātachi (2003)\\nRisu Akizuki for OL Shinkaron (2004)\\nRieko Saibara for Jōkyō Monogatari and Mainichi Kaasan (2005)\\nRisa Itō for One Woman, Two Cats, Hey Pitan! , Onna no Mado (2006)\\nHiromi Morishita for Ōsaka Hamlet (2007)\\nYumiko Ōshima for Cher Gou-Gou...mon petit chat, mon petit ami (2008)\\nHikaru Nakamura for Saint Young Men (2009)\\nMari Yamazaki for Thermae Romae (2010)\\nKeisuke Yamashina for C-kyū Salaryman Kōza, Papa wa Nanda ka Wakaranai (2011)\\nRoswell Hosoki for Sake no Hosomichi (2012)\\nYoshiie Gōda for Love of Machine (2013)\\nYuki Shikawa for Onnoji (2014)\\nSensha Yoshida (2015)\\nTatsuya Nakazaki for Jimihen (2016)\\nKahoru Fukaya for Yomawari Neko (2017)\\nTaro Yabe for Oya-san to Boku (2018)\\n\\nvteShaft\\nAkiyuki Shinbo\\nMitsutoshi Kubota\\nShin Ōnuma\\nTatsuya Oishi\\nYukihiro Miyamoto\\nTelevision series1995–2005\\nJuuni Senshi Bakuretsu Eto Ranger (1995–1996)\\nDotto! Koni-chan (2000–2001)\\nMahoromatic: Automatic Maiden (2001–2002)\\nG-On Riders (2002)\\nMahoromatic: Something More Beautiful (2002–2003)\\nPopotan (2003)\\nMahoromatic: Summer, Special (2003)\\nThis Ugly yet Beautiful World (2004)\\nTsukuyomi: Moon Phase (2004–2005)\\nHe Is My Master (2005)\\nPani Poni Dash! (2005)\\n2006–2010\\nRec (2006)\\nNegima!? (2006–2007)\\nHidamari Sketch (2007)\\nSayonara, Zetsubou-Sensei (2007)\\nEf: A Tale of Memories. (2007)\\nHidamari Sketch Special (2007)\\n(Zoku) Sayonara, Zetsubou-Sensei (2008)\\nHidamari Sketch × 365 (2008)\\nEf: A Tale of Melodies. (2008)\\nMaria Holic (2009)\\nNatsu no Arashi! (2009)\\nMonogatari Series First Season (2009–2012)\\n(Zan) Sayonara, Zetsubou-Sensei (2009)\\nNatsu no Arashi! Akinai-chū (2009)\\nHidamari Sketch × 365 Special (2009)\\nMahoromatic: I\\'m Home, Special (2009)\\nDance in the Vampire Bund (2010)\\nHidamari Sketch × Hoshimittsu (2010)\\nArakawa Under the Bridge (2010)\\nArakawa Under the Bridge x Bridge (2010)\\nAnd Yet the Town Moves (2010)\\nHidamari Sketch × Hoshimittsu Special (2010)\\n2011–present\\nPuella Magi Madoka Magica (2011)\\nMaria Holic: Alive (2011)\\nGround Control to Psychoelectric Girl (2011)\\nHidamari Sketch × SP (2011)\\nHidamari Sketch × Honeycomb (2012)\\nSasami-san@Ganbaranai (2013)\\nMonogatari Series Second Season (2013–2014)\\nNisekoi (2014)\\nMekakucity Actors (2014)\\nMonogatari Series Final Season (2014–2017)\\nGourmet Girl Graffiti (2015)\\nNisekoi: (2015)\\nMarch Comes in Like a Lion (2016–2018)\\nFate/Extra Last Encore (2018)\\nFilms\\nKino\\'s Journey: Country of Illness -For You- (2007)\\nMahō Sensei Negima! Anime Final (2011)\\nPuella Magi Madoka Magica the Movie: Beginnings (2012)\\nPuella Magi Madoka Magica the Movie: Eternal (2012)\\nPuella Magi Madoka Magica the Movie: Rebellion (2013)\\nKizumonogatari Part 1: Tekketsu (2016)\\nKizumonogatari Part 2: Nekketsu (2016)\\nKizumonogatari Part 3: Reiketsu (2017)\\nFireworks (2017)\\nFate/Extra Last Encore - Illustrias Tendousetsu (2018)\\nZoku Owarimonogatari (2018)\\nOVAs\\nYume kara, Samenai (1987)\\nSakura Diaries (1997)\\nArcade Gamer Fubuki (2002–2003)\\nG-On Riders (2003)\\nRec (2006)\\nPani Poni Dash! (2009)\\nMahō Sensei Negima!: Spring (2006)\\nMahō Sensei Negima!: Summer (2006)\\n(Goku) Sayonara, Zetsubou-Sensei (2008–2009)\\nMahō Sensei Negima!: Shiroki Tsubasa Ala Alba (2008–2009)\\n(Zan) Sayonara, Zetsubou-Sensei Bangaichi (2009–2010)\\nMahō Sensei Negima!: Mō Hitotsu no Sekai (2009–2010)\\nKatte ni Kaizō (2011)\\nGround Control to Psychoelectric Girl (2012)\\nHidamari Sketch: Sae & Hiro\\'s Graduation Arc (2013)\\nMagical Suite Prism Nana (2015)\\nZaregoto (2016–2017)\\nONAs\\nKoyomimonogatari (2016)\\nAkuma no Memumemu-chan (2018)\\nIkebukuro (2019)\\n Category\\nvteWorks directed by Akiyuki Shinbo Television series\\nMetal Fighter Miku (1994)\\nStarship Girl Yamamoto Yohko (1998-1999)\\nThe SoulTaker (2001)\\nTsukuyomi: Moon Phase (2004-2005)\\nMagical Girl Lyrical Nanoha (2004)\\nPaniponi Dash! (2005)\\nNegima!? (2006-2007)\\nSayonara Zetsubou Sensei (2007)\\nHidamari Sketch (2007)\\nZoku Sayonara Zetsubou Sensei (2008)\\nHidamari Sketch x 365 (2008)\\nZan Sayonara Zetsubou Sensei (2009)\\nNatsu no Arashi! (2009)\\nNatsu no Arashi! Akinai-chū (2009)\\nMaria Holic (2009)\\nMonogatari Series First Season (2009-2012)\\nHidamari Sketch × ☆☆☆ (2010)\\nDance in the Vampire Bund (2010)\\nArakawa Under the Bridge (2010)\\nAnd Yet the Town Moves (2010)\\nHidamari Sketch x SP (2011)\\nPuella Magi Madoka Magica (2011)\\nMaria Holic Alive (2011)\\nDenpa Onna to Seishun Otoko (2011)\\nHidamari Sketch x Honeycomb (2012)\\nSasami-san@Ganbaranai (2013)\\nMonogatari Series Second Season (2013-2014)\\nNisekoi (2014)\\nMekakucity Actors (2014)\\nMonogatari Series Final Season (2014-2017)\\nNisekoi: (2015)\\nGourmet Girl Graffiti (2015)\\nMarch Comes in like a Lion (2016-2018)\\nFate/Extra Last Encore (2018)\\nOVA/ONAs\\nDevil Hunter Yohko (1990-1995, episode 6)\\nTenamonya Voyagers (1994)\\nStarship Girl Yamamoto Yohko I (1996)\\nHurricane Polymar: Holy Blood (1996-1997)\\nGalaxy Fräulein Yuna Returns (1996-1997)\\nDebutante Detective Corps (1996)\\nDetatoko Princess (1997)\\nStarhip Girl Yamamoto Yohko II (1997)\\nTriangle Heart ~Sweet Songs Forever~ (2003)\\nLe Portrait de Petit Cossette (2004)\\nMahou Sensei Negima! ~Shiroki Tsubasa Ala Alba~ (2008-2009)\\nGoku Sayonara Zetsubou Sensei (2008-2009)\\nZan Sayonara Zetsubou Sensei Bangaichi (2009-2010)\\nMahou Sensei Negima! ~Mou Hitotsu no Sekai~ (2009-2010)\\nKatte ni Kaizou (2011)\\nDenpa Onna to Seishun Otoko Special (2012)\\nHidamari Sketch: Sae Hiro Sotsugyou-hen (2013)\\nNisekoi (2014-2015)\\nMagical Pâtissier Kosaki-chan (2016)\\nKoyomimonogatari (2016)\\nKubikiri Cycle: Aoiro to Zaregototsukai (2016-2017)\\nFilms\\nTwilight of the Dark Master (1998)\\nMahou Sensei Negima! Anime Finale (2011)\\nPuella Magi Madoka Magica: Beginnings (2012)\\nPuella Magi Madoka Magica: Eternal (2012)\\nPuella Magi Madoka Magica: Rebellion (2012)\\nKizumonogatari Part 1: Tekketsu-hen (2016)\\nKizumonogatari Part 2: Nekketsu-hen (2016)\\nKizumonogatari Part 3: Reiketsu-hen (2017)\\nFireworks (2017)\\nZoku Owarimonogatari (2018)\\n\\n\\n\\n\\n \\n\\t\\t\\t\\t\\t\\tRetrieved from \"https://en.wikipedia.org/w/index.php?title=March_Comes_in_Like_a_Lion&oldid=879023528\"\\t\\t\\t\\t\\t\\nCategories: Manga series2007 manga2016 anime television seriesAnime series based on mangaAniplexComing-of-age anime and mangaHakusensha franchisesHakusensha mangaManga adapted into filmsManga TaishōNHK showsRomantic comedy anime and mangaSeinen mangaShaft (company)', ' in anime and mangaWinner of Kodansha Manga Award (General)Hidden categories: Pages with reference errorsCS1 uses Japanese-language script (ja)CS1 Japanese-language sources (ja)Pages with duplicate reference namesArticles containing Japanese-language textInterlanguage link template link numberArticles with Japanese-language external links \\n\\n\\n\\nNavigation menu\\n\\n\\nPersonal tools\\n\\nNot logged inTalkContributionsCreate accountLog in \\n\\n\\n\\nNamespaces\\n\\nArticleTalk \\n\\n\\n\\n\\nVariants\\n\\n\\n\\n\\n\\n\\n\\nViews\\n\\nReadEditView history \\n\\n\\n\\nMore\\n\\n\\n\\n\\n\\nSearch\\n\\n\\n\\n \\n\\n\\n\\n\\n\\n\\n\\nNavigation\\n\\n\\nMain pageContentsFeatured contentCurrent eventsRandom articleDonate to WikipediaWikipedia store \\n\\n\\n\\nInteraction\\n\\n\\nHelpAbout WikipediaCommunity portalRecent changesContact page \\n\\n\\n\\nTools\\n\\n\\nWhat links hereRelated changesUpload fileSpecial pagesPermanent linkPage informationWikidata itemCite this page \\n\\n\\n\\nPrint/export\\n\\n\\nCreate a bookDownload as PDFPrintable version \\n\\n\\n\\nIn other projects\\n\\n\\nWikimedia Commons \\n\\n\\n\\nLanguages\\n\\n\\nالعربيةAzərbaycancaDeutschEspañolFrançais한국어Italiano日本語РусскийTagalogไทยTürkçeTiếng Việt中文 \\nEdit links \\n\\n\\n\\n\\n\\n This page was last edited on 18 January 2019, at 14:02\\xa0(UTC).\\nText is available under the Creative Commons Attribution-ShareAlike License;\\nadditional terms may apply.  By using this site, you agree to the Terms of Use and Privacy Policy. Wikipedia® is a registered trademark of the Wikimedia Foundation, Inc., a non-profit organization.\\n\\n\\nPrivacy policy\\nAbout Wikipedia\\nDisclaimers\\nContact Wikipedia\\nDevelopers\\nCookie statement\\nMobile view\\n\\n\\n\\n \\n\\n \\n\\n\\n\\n(window.RLQ=window.RLQ||[]).push(function(){mw.config.set({\"wgPageParseReport\":{\"limitreport\":{\"cputime\":\"1.500\",\"walltime\":\"1.741\",\"ppvisitednodes\":{\"value\":17456,\"limit\":1000000},\"ppgeneratednodes\":{\"value\":0,\"limit\":1500000},\"postexpandincludesize\":{\"value\":383211,\"limit\":2097152},\"templateargumentsize\":{\"value\":81857,\"limit\":2097152},\"expansiondepth\":{\"value\":15,\"limit\":40},\"expensivefunctioncount\":{\"value\":2,\"limit\":500},\"unstrip-depth\":{\"value\":1,\"limit\":20},\"unstrip-size\":{\"value\":169663,\"limit\":5000000},\"entityaccesscount\":{\"value\":0,\"limit\":400},\"timingprofile\":[\"100.00% 1447.415      1 -total\",\" 27.45%  397.305     14 Template:Graphic_novel_list\",\" 24.07%  348.398      2 Template:Reflist\",\" 21.43%  310.199      5 Template:Infobox\",\" 19.29%  279.245    177 Template:Nihongo\",\" 19.01%  275.161     44 Template:Cite_web\",\" 18.40%  266.326      1 Template:Infobox_animanga/Header\",\" 14.58%  211.060    179 Template:Category_handler\",\" 13.32%  192.829      1 Template:Nihongo2\",\" 11.80%  170.864      1 Template:Lang\"]},\"scribunto\":{\"limitreport-timeusage\":{\"value\":\"0.718\",\"limit\":\"10.000\"},\"limitreport-memusage\":{\"value\":21354848,\"limit\":52428800},\"limitreport-logs\":\"table#1 {\\\\n  [\\\\\"size\\\\\"] = \\\\\"tiny\\\\\",\\\\n}\\\\n\"},\"cachereport\":{\"origin\":\"mw1321\",\"timestamp\":\"20190210120202\",\"ttl\":3600,\"transientcontent\":true}}});});\\n{\"@context\":\"https:\\\\/\\\\/schema.org\",\"@type\":\"Article\",\"name\":\"March Comes in Like a Lion\",\"url\":\"https:\\\\/\\\\/en.wikipedia.org\\\\/wiki\\\\/March_Comes_in_Like_a_Lion\",\"sameAs\":\"http:\\\\/\\\\/www.wikidata.org\\\\/entity\\\\/Q4049046\",\"mainEntity\":\"http:\\\\/\\\\/www.wikidata.org\\\\/entity\\\\/Q4049046\",\"author\":{\"@type\":\"Organization\",\"name\":\"Contributors to Wikimedia projects\"},\"publisher\":{\"@type\":\"Organization\",\"name\":\"Wikimedia Foundation, Inc.\",\"logo\":{\"@type\":\"ImageObject\",\"url\":\"https:\\\\/\\\\/www.wikimedia.org\\\\/static\\\\/images\\\\/wmf-hor-googpub.png\"}},\"datePublished\":\"2007-07-26T20:12:44Z\",\"dateModified\":\"2019-01-18T14:02:16Z\",\"image\":\"https:\\\\/\\\\/upload.wikimedia.org\\\\/wikipedia\\\\/en\\\\/1\\\\/14\\\\/Sangatsu_no_Lion.jpg\",\"headline\":\"manga series\"}\\n(window.RLQ=window.RLQ||[]).push(function(){mw.config.set({\"wgBackendResponseTime\":145,\"wgHostname\":\"mw1322\"});});\\n\\n\\n']\n"
     ]
    }
   ],
   "source": [
    "term = 'Shogi'\n",
    "list_nbhd = re.split(term, page_content.text)\n",
    "print('Split at each occurrence of the term specified:', list_nbhd)"
   ]
  },
  {
   "cell_type": "markdown",
   "metadata": {},
   "source": [
    "### re.sub()\n",
    "Replaces the matches with some text."
   ]
  },
  {
   "cell_type": "code",
   "execution_count": 30,
   "metadata": {},
   "outputs": [
    {
     "name": "stdout",
     "output_type": "stream",
     "text": [
      "Hello it's you\n",
      "Hello it's me\n"
     ]
    }
   ],
   "source": [
    "text_sample = 'Hello it\\'s me'\n",
    "x = re.sub('me', 'you', text_sample)\n",
    "print(x)\n",
    "print(text_sample)"
   ]
  },
  {
   "cell_type": "markdown",
   "metadata": {},
   "source": [
    "## The match object\n",
    "The match object has some methods to retrieve content.\n",
    "<table>\n",
    "    <tr>\n",
    "        <th>Method</th>\n",
    "        <th>Description</th>\n",
    "    </tr>\n",
    "    <tr>\n",
    "        <td>.span()</td>\n",
    "        <td>returns a tuple with the position of the match</td>\n",
    "    </tr>\n",
    "    <tr>\n",
    "        <td>.string()</td>\n",
    "        <td>returns the string passed to the function</td>\n",
    "    </tr>\n",
    "    <tr>\n",
    "        <td>.group()</td>\n",
    "        <td>returns the part of the string where there was match</td>\n",
    "    </tr>\n",
    "</table>\n",
    "\n",
    "### Extras\n",
    "[[1] More exercises](https://regexone.com/problem/matching_decimal_numbers)\n",
    "```\n",
    "# starts with one or more digits, followed (optionally) by digits separated by a comma\n",
    "# followed by the decimal digits (optionallly) and  the expression also treats the case\n",
    "# with the exponential notation.\n",
    "^-?\\d+(,\\d+)*(\\.\\d+(e\\d+)?)?$\n",
    "```"
   ]
  },
  {
   "cell_type": "code",
   "execution_count": null,
   "metadata": {},
   "outputs": [],
   "source": []
  }
 ],
 "metadata": {
  "kernelspec": {
   "display_name": "Python 3",
   "language": "python",
   "name": "python3"
  },
  "language_info": {
   "codemirror_mode": {
    "name": "ipython",
    "version": 3
   },
   "file_extension": ".py",
   "mimetype": "text/x-python",
   "name": "python",
   "nbconvert_exporter": "python",
   "pygments_lexer": "ipython3",
   "version": "3.6.6"
  },
  "latex_envs": {
   "LaTeX_envs_menu_present": true,
   "autoclose": false,
   "autocomplete": true,
   "bibliofile": "biblio.bib",
   "cite_by": "apalike",
   "current_citInitial": 1,
   "eqLabelWithNumbers": true,
   "eqNumInitial": 1,
   "hotkeys": {
    "equation": "Ctrl-E",
    "itemize": "Ctrl-I"
   },
   "labels_anchors": false,
   "latex_user_defs": false,
   "report_style_numbering": false,
   "user_envs_cfg": false
  },
  "toc": {
   "base_numbering": 1,
   "nav_menu": {},
   "number_sections": false,
   "sideBar": false,
   "skip_h1_title": false,
   "title_cell": "Table of Contents",
   "title_sidebar": "Contents",
   "toc_cell": false,
   "toc_position": {},
   "toc_section_display": false,
   "toc_window_display": false
  }
 },
 "nbformat": 4,
 "nbformat_minor": 2
}

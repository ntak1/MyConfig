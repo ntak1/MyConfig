{
 "cells": [
  {
   "cell_type": "markdown",
   "metadata": {},
   "source": [
    "# In this notebook let's see some useful regular expression\n",
    "See references:\n",
    "* [Basics - iterative tutorial](https://regexone.com/lesson/introduction_abcs)\n",
    "* [Python RegEx w3schools](https://www.w3schools.com/python/python_regex.asp)\n",
    "* [Python RegEx Doc](https://docs.python.org/2/howto/regex.html#regex-howto)\n",
    "\n",
    "Notes: RegEx might be faster than python code, this one is possibly more readable than regular expressions.\n",
    "<table>\n",
    "    <tr>\n",
    "        <th>Operator</th>\n",
    "        <th>Description</th>\n",
    "    </tr>\n",
    "    <tr>\n",
    "        <td><b>\\.</b></td>\n",
    "        <td> It is a meta character that represents match any single character. To refer to the character <b>\\.</b>  (dot), use <b>\\.</b>. </td>\n",
    "    </tr>\n",
    "    <tr>\n",
    "        <td><b>\\ + char</b></td>\n",
    "        <td>Indicates a metacharacter.</td>\n",
    "    </tr>\n",
    "    <tr>\n",
    "        <td><b>[abc]</b></td>\n",
    "        <td>Selects the slices that contains the char a,b or c.</td>\n",
    "    </tr>\n",
    "    <tr>\n",
    "        <td><b>^</b></td>\n",
    "        <td>Including this character as in [^abc] we select the strings that does't contain a,b or c.</td>\n",
    "    </tr>\n",
    "    <tr>\n",
    "        <td><b>-</b></td>\n",
    "        <td>If we want to select characters in a range we use <b>dash (-)</b> to separate the first element of the last of a given range. Ex: <b>[0-6]</b>. One special metacharacter is <b>\\w</b> that is equivalent to <b>[A-Za-z0-9].</b></td>\n",
    "    </tr>\n",
    "    <tr>\n",
    "        <td><b>{}</b></td>\n",
    "        <td>Repetition. Ex <b>a{3}</b>, search for an a repeated 3 times. Ex <b>a{1,3}</b>, no less than one time, no more then 3.</td>\n",
    "    </tr>\n",
    "    <tr>\n",
    "        <td><b>* +</b></td>\n",
    "        <td>Matching an arbitary number of characters. Ex  <b>\\d*</b> any number of digits.<b>\\d+</b> ensures at least one digit. in practice: <b>*</b> means zero or more and <b> + </b> means one or more.</td>\n",
    "    </tr>\n",
    "    <tr>\n",
    "        <td><b>?</b></td>\n",
    "        <td>Optional characters. Ex <b>ab?c</b> might match abc or ac because  is optional.</td>\n",
    "    </tr>\n",
    "    <tr>\n",
    "        <td><b>\\s</b></td>\n",
    "        <td>Spaces</td>\n",
    "    </tr>\n",
    "    <tr>\n",
    "        <td><b>^word</b></td>\n",
    "        <td>Startings and endings.<b>^word</b> match the lines that begin with word.</td>\n",
    "    </tr>\n",
    "    <tr>\n",
    "        <td><b>()</b></td>\n",
    "        <td>Match group. Ex <b>^(file\\w*)\\.pdf$</b> match the pdf files that have the word file in the name, but doesn't capture the extension.</td>\n",
    "    </tr>\n",
    "    <tr>\n",
    "        <td><b>(())</b></td>\n",
    "        <td>Match a group in a matched group.</td>\n",
    "    </tr>\n",
    "    <tr>\n",
    "        <td><b>|</b></td>\n",
    "        <td>Conditionals: or <b>|</b>. Ex (a|b).</td>\n",
    "    </tr>\n",
    "    <tr>\n",
    "        <td><b>\\D \\W \\S \\b</b></td>\n",
    "        <td>The oposites: \\D non digits, \\W non alphanumeric, \\S no whitespace. \\b matches the boundary of a word and a non word char</td>\n",
    "    </tr>\n",
    "</table>\n",
    "\n",
    "---\n"
   ]
  },
  {
   "cell_type": "code",
   "execution_count": null,
   "metadata": {},
   "outputs": [],
   "source": [
    "# The regular expressin library\n",
    "import re\n",
    "import requests\n",
    "import bs4 as bs"
   ]
  },
  {
   "cell_type": "markdown",
   "metadata": {},
   "source": [
    "## Main functions of the re module\n",
    "<table>\n",
    "    <tr>\n",
    "        <th>Function</th>\n",
    "        <th>Description</th>\n",
    "    </tr>\n",
    "    <tr>\n",
    "        <td>findall</td>\n",
    "        <td>Returns a list containing all matches</td>\n",
    "    </tr>\n",
    "     <tr>\n",
    "        <td>search</td>\n",
    "        <td>Returns a Match object if there is a match anywhere in the string</td>\n",
    "    </tr>\n",
    "     <tr>\n",
    "        <td>split</td>\n",
    "        <td>Returns a list where the string has been split at each match</td>\n",
    "    </tr>\n",
    "     <tr>\n",
    "        <td>sub</td>\n",
    "        <td>Replaces one or many matches with a string</td>\n",
    "    </tr>\n",
    "</table>\n"
   ]
  },
  {
   "cell_type": "code",
   "execution_count": null,
   "metadata": {},
   "outputs": [],
   "source": [
    "page_link = 'https://en.wikipedia.org/wiki/March_Comes_in_Like_a_Lion'\n",
    "response = requests.get(page_link, timeout=5)\n",
    "print('Status response:', response.status_code)\n"
   ]
  },
  {
   "cell_type": "code",
   "execution_count": null,
   "metadata": {},
   "outputs": [],
   "source": [
    "page_content = bs.BeautifulSoup(response.content, 'html.parser') \n"
   ]
  },
  {
   "cell_type": "markdown",
   "metadata": {},
   "source": [
    "### re.findall()\n"
   ]
  },
  {
   "cell_type": "code",
   "execution_count": null,
   "metadata": {},
   "outputs": [],
   "source": [
    "term = 'Shogi'\n",
    "x = re.findall(term,page_content.text)\n",
    "print(x) "
   ]
  },
  {
   "cell_type": "markdown",
   "metadata": {},
   "source": [
    "### re.search()\n"
   ]
  },
  {
   "cell_type": "code",
   "execution_count": null,
   "metadata": {},
   "outputs": [],
   "source": [
    "term = 'Shogi'\n",
    "match_obj = re.search(term, page_content.text)\n",
    "print('The position of the first occurrence (%d, %d).' %(match_obj.start(), match_obj.end()))"
   ]
  },
  {
   "cell_type": "markdown",
   "metadata": {},
   "source": [
    "### re.split()"
   ]
  },
  {
   "cell_type": "code",
   "execution_count": null,
   "metadata": {},
   "outputs": [],
   "source": [
    "term = 'Shogi'\n",
    "list_nbhd = re.split(term, page_content.text)\n",
    "print('Split at each occurrence of the term specified:', list_nbhd)"
   ]
  },
  {
   "cell_type": "markdown",
   "metadata": {},
   "source": [
    "### re.sub()\n",
    "Replaces the matches with some text."
   ]
  },
  {
   "cell_type": "code",
   "execution_count": null,
   "metadata": {},
   "outputs": [],
   "source": [
    "text_sample = 'Hello it\\'s me'\n",
    "x = re.sub('me', 'you', text_sample)\n",
    "print(x)\n",
    "print(text_sample)"
   ]
  },
  {
   "cell_type": "markdown",
   "metadata": {},
   "source": [
    "## The match object\n",
    "The match object has some methods to retrieve content.\n",
    "<table>\n",
    "    <tr>\n",
    "        <th>Method</th>\n",
    "        <th>Description</th>\n",
    "    </tr>\n",
    "    <tr>\n",
    "        <td>.span()</td>\n",
    "        <td>returns a tuple with the position of the match</td>\n",
    "    </tr>\n",
    "    <tr>\n",
    "        <td>.string()</td>\n",
    "        <td>returns the string passed to the function</td>\n",
    "    </tr>\n",
    "    <tr>\n",
    "        <td>.group()</td>\n",
    "        <td>returns the part of the string where there was match</td>\n",
    "    </tr>\n",
    "</table>\n",
    "\n",
    "### Extras\n",
    "[[1] More exercises](https://regexone.com/problem/matching_decimal_numbers)\n",
    "```\n",
    "# starts with one or more digits, followed (optionally) by digits separated by a comma\n",
    "# followed by the decimal digits (optionallly) and  the expression also treats the case\n",
    "# with the exponential notation.\n",
    "^-?\\d+(,\\d+)*(\\.\\d+(e\\d+)?)?$\n",
    "```"
   ]
  },
  {
   "cell_type": "code",
   "execution_count": null,
   "metadata": {},
   "outputs": [],
   "source": []
  }
 ],
 "metadata": {
  "kernelspec": {
   "display_name": "Python 3",
   "language": "python",
   "name": "python3"
  },
  "language_info": {
   "codemirror_mode": {
    "name": "ipython",
    "version": 3
   },
   "file_extension": ".py",
   "mimetype": "text/x-python",
   "name": "python",
   "nbconvert_exporter": "python",
   "pygments_lexer": "ipython3",
   "version": "3.6.6"
  },
  "latex_envs": {
   "LaTeX_envs_menu_present": true,
   "autoclose": false,
   "autocomplete": true,
   "bibliofile": "biblio.bib",
   "cite_by": "apalike",
   "current_citInitial": 1,
   "eqLabelWithNumbers": true,
   "eqNumInitial": 1,
   "hotkeys": {
    "equation": "Ctrl-E",
    "itemize": "Ctrl-I"
   },
   "labels_anchors": false,
   "latex_user_defs": false,
   "report_style_numbering": false,
   "user_envs_cfg": false
  },
  "toc": {
   "base_numbering": 1,
   "nav_menu": {},
   "number_sections": false,
   "sideBar": false,
   "skip_h1_title": false,
   "title_cell": "Table of Contents",
   "title_sidebar": "Contents",
   "toc_cell": false,
   "toc_position": {},
   "toc_section_display": false,
   "toc_window_display": false
  }
 },
 "nbformat": 4,
 "nbformat_minor": 2
}

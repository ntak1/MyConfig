{
 "cells": [
  {
   "cell_type": "markdown",
   "metadata": {},
   "source": [
    "# Let's use some graph algorithms to navigate though Wikipedia!\n",
    "Nothing like a soup made of nice data structures and algorithms!"
   ]
  },
  {
   "cell_type": "code",
   "execution_count": null,
   "metadata": {},
   "outputs": [],
   "source": [
    "from bs4 import BeautifulSoup\n",
    "import requests\n",
    "import time\n",
    "from random import shuffle\n",
    "\n",
    "from utils import *"
   ]
  },
  {
   "cell_type": "markdown",
   "metadata": {},
   "source": [
    "---\n",
    "First, let's define some basic data structures.\n",
    "* Stack:it might be seen as a list that follows the idea \"last in first out\"\n",
    "* Queue: it might be seen as a list that follows the idea \"first in first out\""
   ]
  },
  {
   "cell_type": "code",
   "execution_count": null,
   "metadata": {},
   "outputs": [],
   "source": [
    "# Defining basic data structures\n",
    "class List:\n",
    "    def __init__(self):\n",
    "        self.items = []\n",
    "        \n",
    "    def isEmpty(self):\n",
    "         return self.items == []\n",
    "        \n",
    "    def size(self):\n",
    "         return len(self.items)\n",
    "        \n",
    "    def print_items(self):\n",
    "        print(self.items)\n",
    "\n",
    "class Stack(List):\n",
    "    def __init__(self):\n",
    "        List.__init__(self)\n",
    "        \n",
    "    def push(self, item):\n",
    "        self.items.append(item)\n",
    "\n",
    "    def pop(self):\n",
    "        return self.items.pop()\n",
    "\n",
    "    def peek(self):\n",
    "        return self.items[len(self.items)-1]\n",
    "        \n",
    "class Queue(List):    \n",
    "    def __init__(self):\n",
    "        List.__init__(self)\n",
    "    \n",
    "    def enqueue(self, item):\n",
    "        self.items.append(item)\n",
    "    \n",
    "    def dequeue(self):\n",
    "        item = self.items[0]\n",
    "        del self.items[0]\n",
    "        return item    "
   ]
  },
  {
   "cell_type": "markdown",
   "metadata": {},
   "source": [
    "### Two of the most basic graph algorithms\n",
    "See references:  \n",
    "[[1]BFS - portuguese](https://www.ime.usp.br/~pf/algoritmos_para_grafos/aulas/bfs.html)  \n",
    "[[2]DFS - portuguese](https://www.ime.usp.br/~pf/algoritmos_para_grafos/aulas/dfs.html)  "
   ]
  },
  {
   "cell_type": "code",
   "execution_count": null,
   "metadata": {},
   "outputs": [],
   "source": [
    "# The basic walking on graphs algorithms\n",
    "def dfs_iteratitve(v, visited_nodes, end_node, filters=None):\n",
    "    if not None:\n",
    "        contain, not_contain = filters\n",
    "    s = Stack()\n",
    "    s.push(v)\n",
    "    i = 0\n",
    "    while s.size() > 0 and i < 10000:\n",
    "        v = s.pop()\n",
    "        i += 1\n",
    "        print('Iteration:', i)\n",
    "        visited = False\n",
    "        for string in visited_nodes:\n",
    "            if  v in string:\n",
    "                visited = True\n",
    "        if not visited:\n",
    "            print('\\t', v)\n",
    "            print('\\t','https://en.wikipedia.org/'+ v,'\\n------------------------------')\n",
    "            visited_nodes.append(v)\n",
    "            prefix = 'https://en.wikipedia.org/'\n",
    "            try:\n",
    "                v_adj_links = extract_page_links(prefix + v)\n",
    "                time.sleep(0.01)\n",
    "            except:\n",
    "                continue\n",
    "            for w in v_adj_links:\n",
    "                if end_node in w:\n",
    "                    print('Over!!!!')\n",
    "                    print('\\t','https://en.wikipedia.org/'+ w,'\\n------------------------------')\n",
    "                    return\n",
    "                s.push(w)\n",
    "        if i%100 == 0:\n",
    "            print(visited_nodes)\n",
    "    print(s.size())\n",
    "    return None\n",
    "\n",
    "def bfs_iterative(v, visited_nodes, end_node, filters=None):\n",
    "    if not None:\n",
    "        contain, not_contain = filters\n",
    "    q = Queue()\n",
    "    q.enqueue(v)\n",
    "    i = 0\n",
    "    while q.size() > 0 and i < 10000:\n",
    "        v = q.dequeue()\n",
    "        i += 1\n",
    "        print('Iteration:', i)\n",
    "        visited = False\n",
    "        for string in visited_nodes:\n",
    "            if  v in string:\n",
    "                visited = True\n",
    "        if not visited:\n",
    "            print('\\t', v)\n",
    "            print('\\t','https://en.wikipedia.org/'+ v,'\\n------------------------------')\n",
    "            visited_nodes.append(v)\n",
    "            prefix = 'https://en.wikipedia.org/'\n",
    "            try:\n",
    "                v_adj_links = extract_page_links(prefix + v)\n",
    "                time.sleep(0.01)\n",
    "            except:\n",
    "                continue\n",
    "            for w in v_adj_links:\n",
    "                if end_node in w:\n",
    "                    print('Over!!!!')\n",
    "                    print('\\t','https://en.wikipedia.org/'+ w,'\\n------------------------------')\n",
    "                    return\n",
    "                q.enqueue(w)\n",
    "        if i%100 == 0:\n",
    "            print(visited_nodes)\n",
    "    print(q.size())\n",
    "    return None"
   ]
  },
  {
   "cell_type": "markdown",
   "metadata": {},
   "source": [
    "### Define the filters for the links"
   ]
  },
  {
   "cell_type": "code",
   "execution_count": null,
   "metadata": {},
   "outputs": [],
   "source": [
    "contain = ['/wiki/']\n",
    "not_contain = ['Wikipedia:', 'About:', 'File:', 'Contact']\n",
    "filters = (contain, not_contain)"
   ]
  },
  {
   "cell_type": "markdown",
   "metadata": {},
   "source": [
    "### BFS"
   ]
  },
  {
   "cell_type": "code",
   "execution_count": null,
   "metadata": {},
   "outputs": [],
   "source": [
    "visited_nodes = []\n",
    "end_node =_node = 'wiki/China'\n",
    "initial_node = 'wiki/March_Comes_in_like_a_Lion'\n",
    "bfs_iterative(initial_node, visited_nodes, end_node, filters)"
   ]
  },
  {
   "cell_type": "markdown",
   "metadata": {},
   "source": [
    "### DFS"
   ]
  },
  {
   "cell_type": "code",
   "execution_count": null,
   "metadata": {},
   "outputs": [],
   "source": [
    "visited_nodes = []\n",
    "end_node =_node = 'wiki/Japan'\n",
    "initial_node = 'wiki/March_Comes_in_like_a_Lion'\n",
    "dfs_iteratitve(initial_node, visited_nodes, end_node, filters)"
   ]
  },
  {
   "cell_type": "code",
   "execution_count": null,
   "metadata": {},
   "outputs": [],
   "source": []
  }
 ],
 "metadata": {
  "kernelspec": {
   "display_name": "Python 3",
   "language": "python",
   "name": "python3"
  },
  "language_info": {
   "codemirror_mode": {
    "name": "ipython",
    "version": 3
   },
   "file_extension": ".py",
   "mimetype": "text/x-python",
   "name": "python",
   "nbconvert_exporter": "python",
   "pygments_lexer": "ipython3",
   "version": "3.6.6"
  },
  "latex_envs": {
   "LaTeX_envs_menu_present": true,
   "autoclose": false,
   "autocomplete": true,
   "bibliofile": "biblio.bib",
   "cite_by": "apalike",
   "current_citInitial": 1,
   "eqLabelWithNumbers": true,
   "eqNumInitial": 1,
   "hotkeys": {
    "equation": "Ctrl-E",
    "itemize": "Ctrl-I"
   },
   "labels_anchors": false,
   "latex_user_defs": false,
   "report_style_numbering": false,
   "user_envs_cfg": false
  },
  "toc": {
   "base_numbering": 1,
   "nav_menu": {},
   "number_sections": false,
   "sideBar": false,
   "skip_h1_title": false,
   "title_cell": "Table of Contents",
   "title_sidebar": "Contents",
   "toc_cell": false,
   "toc_position": {},
   "toc_section_display": false,
   "toc_window_display": false
  }
 },
 "nbformat": 4,
 "nbformat_minor": 2
}

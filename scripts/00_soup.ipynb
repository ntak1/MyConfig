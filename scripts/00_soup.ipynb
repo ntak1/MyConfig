{
 "cells": [
  {
   "cell_type": "markdown",
   "metadata": {},
   "source": [
    "# Let us start making soup with Wikipedia!\n",
    "\n",
    "### Import dependencies"
   ]
  },
  {
   "cell_type": "code",
   "execution_count": null,
   "metadata": {},
   "outputs": [],
   "source": [
    "from bs4 import BeautifulSoup\n",
    "import requests\n",
    "import pandas as pd\n",
    "from utils import *"
   ]
  },
  {
   "cell_type": "markdown",
   "metadata": {},
   "source": [
    "### Using requests to download the page's contents"
   ]
  },
  {
   "cell_type": "code",
   "execution_count": null,
   "metadata": {},
   "outputs": [],
   "source": [
    "page_link = 'https://en.wikipedia.org/wiki/March_Comes_in_Like_a_Lion'\n",
    "page_response = requests.get(page_link, timeout=5)\n",
    "page_content = BeautifulSoup(page_response.content, 'html.parser')\n",
    "\n",
    "# Sanity check\n",
    "print(type(page_response))\n",
    "print(type(page_content))\n",
    "print('status code: ', page_response.status_code)"
   ]
  },
  {
   "cell_type": "markdown",
   "metadata": {},
   "source": [
    "## Extract some contents\n",
    "\n",
    "### Tags\n",
    "A tag object corresponds to an XML or HTML tag in the original document.\n",
    "```\n",
    "page_content.<tag_name>.<atribute>\n",
    "```\n",
    "### Atributes\n",
    "Tags have atributes and methods"
   ]
  },
  {
   "cell_type": "code",
   "execution_count": null,
   "metadata": {},
   "outputs": [],
   "source": [
    "# Some title informations\n",
    "print(page_content.title)\n",
    "print(page_content.title.name)\n",
    "print(page_content.title.string)"
   ]
  },
  {
   "cell_type": "code",
   "execution_count": null,
   "metadata": {},
   "outputs": [],
   "source": [
    "# Retrieve all the links\n",
    "all_links = [link['href'] for link in page_content.find_all('a', href=True)]\n",
    "\n",
    "# Links with wiki\n",
    "wiki_links = [link for link in all_links if 'wikipedia' in link or 'wiki' in link]\n",
    "\n",
    "print('All the wikipedia links in the page')\n",
    "print_array(wiki_links, limit = 10)"
   ]
  },
  {
   "cell_type": "code",
   "execution_count": null,
   "metadata": {},
   "outputs": [],
   "source": [
    "# links and the text related to it\n",
    "wiki_link_contents = [(link[\"title\"], link[\"href\"]) for link in page_content.find_all(\"a\",href=True, title=True)]\n",
    "prefix = \"https://en.wikipedia.org\"\n",
    "with open(\"links.csv\", \"w\") as f:\n",
    "    f.write(\"\\\"\"+ \"Nome\" + \"\\\"\" + \",\" + \"\\\"\" + \"Link\" + \"\\\"\" + \"\\n\")\n",
    "    for name,link in wiki_link_contents:\n",
    "        if prefix not in link:\n",
    "            f.write(\"\\\"\"+ name + \"\\\"\" + \",\" + \"\\\"\" + prefix + link + \"\\\"\" + \"\\n\")\n",
    "        else:\n",
    "            f.write(\"\\\"\" + name + \"\\\"\" + \",\" + \"\\\"\" + link + \"\\\"\" + \"\\n\")\n",
    "\n",
    "# Sanity check\n",
    "print(len(wiki_link_contents))\n",
    "print_array(wiki_link_contents, limit=10)"
   ]
  },
  {
   "cell_type": "code",
   "execution_count": null,
   "metadata": {},
   "outputs": [],
   "source": [
    "# Eliminate duplicated lines with pandas\n",
    "\n",
    "file_name = \"links.csv\"\n",
    "file_name_output = \"no_dupes_links.csv\"\n",
    "\n",
    "df = pd.read_csv(file_name, sep=\",\")\n",
    "df.drop_duplicates(subset=None, inplace=True)\n",
    "df = df.sort_values(by=['Nome'])\n",
    "\n",
    "# Write the results to a different file\n",
    "df.to_csv(file_name_output, sep=',', index=False)"
   ]
  },
  {
   "cell_type": "code",
   "execution_count": null,
   "metadata": {},
   "outputs": [],
   "source": [
    "# Extract the content between the <body></body> tag\n",
    "\n",
    "body_tag = page_content.body\n",
    "# print(body_tag, '\\n')\n",
    "\n",
    "# The tag name\n",
    "print(body_tag.name,'\\n')\n",
    "\n",
    "# Get the tag's atributes\n",
    "print(body_tag.attrs, '\\n')"
   ]
  },
  {
   "cell_type": "code",
   "execution_count": null,
   "metadata": {},
   "outputs": [],
   "source": [
    "category_links = [link for name, link in wiki_link_contents if 'Category' in name]\n",
    "print_array(category_links, limit=10)"
   ]
  },
  {
   "cell_type": "markdown",
   "metadata": {},
   "source": [
    "### Print all the liks related to a given category"
   ]
  },
  {
   "cell_type": "code",
   "execution_count": null,
   "metadata": {},
   "outputs": [],
   "source": [
    "node = '/wiki/Category:' + 'Anime_series_based_on_manga'\n",
    "category_link = prefix + node\n",
    "category_response = requests.get(category_link, timeout=5)\n",
    "category_content = BeautifulSoup(category_response.content, 'html.parser')\n",
    "contain = ['/wiki/']\n",
    "node = prefix + node\n",
    "category_links = extract_page_links(node, contain=contain)\n"
   ]
  },
  {
   "cell_type": "code",
   "execution_count": null,
   "metadata": {},
   "outputs": [],
   "source": [
    "print_array(category_links)\n"
   ]
  },
  {
   "cell_type": "code",
   "execution_count": null,
   "metadata": {},
   "outputs": [],
   "source": []
  }
 ],
 "metadata": {
  "kernelspec": {
   "display_name": "Python 3",
   "language": "python",
   "name": "python3"
  },
  "language_info": {
   "codemirror_mode": {
    "name": "ipython",
    "version": 3
   },
   "file_extension": ".py",
   "mimetype": "text/x-python",
   "name": "python",
   "nbconvert_exporter": "python",
   "pygments_lexer": "ipython3",
   "version": "3.6.6"
  },
  "latex_envs": {
   "LaTeX_envs_menu_present": true,
   "autoclose": false,
   "autocomplete": true,
   "bibliofile": "biblio.bib",
   "cite_by": "apalike",
   "current_citInitial": 1,
   "eqLabelWithNumbers": true,
   "eqNumInitial": 1,
   "hotkeys": {
    "equation": "Ctrl-E",
    "itemize": "Ctrl-I"
   },
   "labels_anchors": false,
   "latex_user_defs": false,
   "report_style_numbering": false,
   "user_envs_cfg": false
  },
  "toc": {
   "base_numbering": 1,
   "nav_menu": {},
   "number_sections": false,
   "sideBar": false,
   "skip_h1_title": false,
   "title_cell": "Table of Contents",
   "title_sidebar": "Contents",
   "toc_cell": false,
   "toc_position": {},
   "toc_section_display": false,
   "toc_window_display": false
  }
 },
 "nbformat": 4,
 "nbformat_minor": 2
}

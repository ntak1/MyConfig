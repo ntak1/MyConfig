{
 "cells": [
  {
   "cell_type": "markdown",
   "metadata": {},
   "source": [
    "# Let us start making soup with Wikipedia!\n",
    "\n",
    "### Import dependencies"
   ]
  },
  {
   "cell_type": "code",
   "execution_count": 1,
   "metadata": {},
   "outputs": [],
   "source": [
    "from bs4 import BeautifulSoup\n",
    "import requests\n",
    "import pandas as pd\n",
    "from utils import *"
   ]
  },
  {
   "cell_type": "markdown",
   "metadata": {},
   "source": [
    "### Using requests to download the page's contents"
   ]
  },
  {
   "cell_type": "code",
   "execution_count": 2,
   "metadata": {},
   "outputs": [
    {
     "name": "stdout",
     "output_type": "stream",
     "text": [
      "<class 'requests.models.Response'>\n",
      "<class 'bs4.BeautifulSoup'>\n",
      "status code:  200\n"
     ]
    }
   ],
   "source": [
    "page_link = 'https://en.wikipedia.org/wiki/March_Comes_in_Like_a_Lion'\n",
    "page_response = requests.get(page_link, timeout=5)\n",
    "page_content = BeautifulSoup(page_response.content, 'html.parser')\n",
    "\n",
    "# Sanity check\n",
    "print(type(page_response))\n",
    "print(type(page_content))\n",
    "print('status code: ', page_response.status_code)"
   ]
  },
  {
   "cell_type": "markdown",
   "metadata": {},
   "source": [
    "## Extract some contents\n",
    "\n",
    "### Tags\n",
    "A tag object corresponds to an XML or HTML tag in the original document.\n",
    "```\n",
    "page_content.<tag_name>.<atribute>\n",
    "```\n",
    "### Atributes\n",
    "Tags have atributes and methods"
   ]
  },
  {
   "cell_type": "code",
   "execution_count": 3,
   "metadata": {},
   "outputs": [
    {
     "name": "stdout",
     "output_type": "stream",
     "text": [
      "<title>March Comes in Like a Lion - Wikipedia</title>\n",
      "title\n",
      "March Comes in Like a Lion - Wikipedia\n"
     ]
    }
   ],
   "source": [
    "# Some title informations\n",
    "print(page_content.title)\n",
    "print(page_content.title.name)\n",
    "print(page_content.title.string)"
   ]
  },
  {
   "cell_type": "code",
   "execution_count": 4,
   "metadata": {
    "scrolled": false
   },
   "outputs": [
    {
     "name": "stdout",
     "output_type": "stream",
     "text": [
      "All the wikipedia links in the page\n",
      "/wiki/March_Comes_in_Like_a_Lion_(film)\n",
      "/wiki/File:Sangatsu_no_Lion.jpg\n",
      "/wiki/Coming-of-age_story\n",
      "/wiki/Romantic_comedy\n",
      "/wiki/Chica_Umino\n",
      "/wiki/Hakusensha\n",
      "/wiki/Seinen_manga\n",
      "/wiki/Young_Animal_(magazine)\n",
      "/wiki/Akiyuki_Shinbo\n",
      "/wiki/Yukari_Hashimoto\n"
     ]
    }
   ],
   "source": [
    "# Retrieve all the links\n",
    "all_links = [link['href'] for link in page_content.find_all('a', href=True)]\n",
    "\n",
    "# Links with wiki\n",
    "wiki_links = [link for link in all_links if 'wikipedia' in link or 'wiki' in link]\n",
    "\n",
    "print('All the wikipedia links in the page')\n",
    "print_array(wiki_links, limit = 10)"
   ]
  },
  {
   "cell_type": "code",
   "execution_count": 5,
   "metadata": {},
   "outputs": [
    {
     "name": "stdout",
     "output_type": "stream",
     "text": [
      "698\n",
      "('March Comes in Like a Lion (film)', '/wiki/March_Comes_in_Like_a_Lion_(film)')\n",
      "('Coming-of-age story', '/wiki/Coming-of-age_story')\n",
      "('Romantic comedy', '/wiki/Romantic_comedy')\n",
      "('Chica Umino', '/wiki/Chica_Umino')\n",
      "('Hakusensha', '/wiki/Hakusensha')\n",
      "('Seinen manga', '/wiki/Seinen_manga')\n",
      "('Young Animal (magazine)', '/wiki/Young_Animal_(magazine)')\n",
      "('Akiyuki Shinbo', '/wiki/Akiyuki_Shinbo')\n",
      "('Yukari Hashimoto', '/wiki/Yukari_Hashimoto')\n",
      "('Shaft (company)', '/wiki/Shaft_(company)')\n"
     ]
    }
   ],
   "source": [
    "# links and the text related to it\n",
    "wiki_link_contents = [(link[\"title\"], link[\"href\"]) for link in page_content.find_all(\"a\",href=True, title=True)]\n",
    "prefix = \"https://en.wikipedia.org\"\n",
    "with open(\"links.csv\", \"w\") as f:\n",
    "    f.write(\"\\\"\"+ \"Nome\" + \"\\\"\" + \",\" + \"\\\"\" + \"Link\" + \"\\\"\" + \"\\n\")\n",
    "    for name,link in wiki_link_contents:\n",
    "        if prefix not in link:\n",
    "            f.write(\"\\\"\"+ name + \"\\\"\" + \",\" + \"\\\"\" + prefix + link + \"\\\"\" + \"\\n\")\n",
    "        else:\n",
    "            f.write(\"\\\"\" + name + \"\\\"\" + \",\" + \"\\\"\" + link + \"\\\"\" + \"\\n\")\n",
    "\n",
    "# Sanity check\n",
    "print(len(wiki_link_contents))\n",
    "print_array(wiki_link_contents, limit=10)"
   ]
  },
  {
   "cell_type": "code",
   "execution_count": 6,
   "metadata": {},
   "outputs": [],
   "source": [
    "# Eliminate duplicated lines with pandas\n",
    "\n",
    "file_name = \"links.csv\"\n",
    "file_name_output = \"no_dupes_links.csv\"\n",
    "\n",
    "df = pd.read_csv(file_name, sep=\",\")\n",
    "df.drop_duplicates(subset=None, inplace=True)\n",
    "df = df.sort_values(by=['Nome'])\n",
    "\n",
    "# Write the results to a different file\n",
    "df.to_csv(file_name_output, sep=',', index=False)"
   ]
  },
  {
   "cell_type": "code",
   "execution_count": 7,
   "metadata": {},
   "outputs": [
    {
     "name": "stdout",
     "output_type": "stream",
     "text": [
      "body \n",
      "\n",
      "{'class': ['mediawiki', 'ltr', 'sitedir-ltr', 'mw-hide-empty-elt', 'ns-0', 'ns-subject', 'mw-editable', 'page-March_Comes_in_Like_a_Lion', 'rootpage-March_Comes_in_Like_a_Lion', 'skin-vector', 'action-view']} \n",
      "\n"
     ]
    }
   ],
   "source": [
    "# Extract the content between the <body></body> tag\n",
    "\n",
    "body_tag = page_content.body\n",
    "# print(body_tag, '\\n')\n",
    "\n",
    "# The tag name\n",
    "print(body_tag.name,'\\n')\n",
    "\n",
    "# Get the tag's atributes\n",
    "print(body_tag.attrs, '\\n')"
   ]
  },
  {
   "cell_type": "code",
   "execution_count": 8,
   "metadata": {},
   "outputs": [
    {
     "name": "stdout",
     "output_type": "stream",
     "text": [
      "/wiki/Category:Shaft_(company)\n",
      "/wiki/Help:Category\n",
      "/wiki/Category:Manga_series\n",
      "/wiki/Category:2007_manga\n",
      "/wiki/Category:2016_anime_television_series\n",
      "/wiki/Category:Anime_series_based_on_manga\n",
      "/wiki/Category:Aniplex\n",
      "/wiki/Category:Coming-of-age_anime_and_manga\n",
      "/wiki/Category:Hakusensha_franchises\n",
      "/wiki/Category:Hakusensha_manga\n"
     ]
    }
   ],
   "source": [
    "category_links = [link for name, link in wiki_link_contents if 'Category' in name]\n",
    "print_array(category_links, limit=10)"
   ]
  },
  {
   "cell_type": "markdown",
   "metadata": {},
   "source": [
    "### Print all the liks related to a given category"
   ]
  },
  {
   "cell_type": "code",
   "execution_count": 9,
   "metadata": {},
   "outputs": [],
   "source": [
    "node = '/wiki/Category:' + 'Anime_series_based_on_manga'\n",
    "category_link = prefix + node\n",
    "category_response = requests.get(category_link, timeout=5)\n",
    "category_content = BeautifulSoup(category_response.content, 'html.parser')\n",
    "contain = ['/wiki/']\n",
    "node = prefix + node\n",
    "category_links = extract_page_links(node, contain=contain)\n"
   ]
  },
  {
   "cell_type": "code",
   "execution_count": 10,
   "metadata": {},
   "outputs": [
    {
     "name": "stdout",
     "output_type": "stream",
     "text": [
      "https://sv.wikipedia.org/wiki/Kategori:Animeserier_baserade_p%C3%A5_manga\n",
      "//www.mediawiki.org/wiki/Special:MyLanguage/Help:Categories\n",
      "/wiki/Gabriel_DropOut\n",
      "/wiki/Hanebado!\n",
      "/wiki/Fire_Force\n",
      "/wiki/%C4%92lDLIVE\n",
      "/wiki/Blue_Exorcist\n",
      "/wiki/GetBackers\n",
      "/wiki/DD_Fist_of_the_North_Star\n",
      "/wiki/Chronicles_of_the_Going_Home_Club\n",
      "/wiki/Ex-Arm\n",
      "/wiki/Aoharu_%C3%97_Machinegun\n",
      "/wiki/Dragon_Ball_(TV_series)\n",
      "/wiki/Beet_the_Vandel_Buster\n",
      "/wiki/Deadman_Wonderland\n",
      "/wiki/Detective_School_Q\n",
      "https://ckb.wikipedia.org/wiki/%D9%BE%DB%86%D9%84:%D8%A6%DB%95%D9%88_%D8%B2%D9%86%D8%AC%DB%8C%D8%B1%DB%95_%D8%A6%DB%95%D9%86%DB%8C%D9%85%DB%8E%DB%8C%D8%A7%D9%86%DB%95%DB%8C_%D9%BE%D8%B4%D8%AA_%D8%A8%DB%95_%D9%85%D8%A7%D9%86%DA%AF%D8%A7_%D8%AF%DB%95%D8%A8%DB%95%D8%B3%D8%AA%DB%8E%D8%AA\n",
      "/wiki/Emma_(manga)\n",
      "/wiki/Gin_Tama\n",
      "/wiki/07-Ghost\n",
      "/wiki/Aishiteruze_Baby\n",
      "/wiki/Ajin:_Demi-Human\n",
      "/wiki/Flying_Witch\n",
      "/wiki/Ginga_Legend_Weed\n",
      "/wiki/Desert_Punk\n",
      "/wiki/The_Disappearance_of_Nagato_Yuki-chan\n",
      "/wiki/Girls%27_Last_Tour\n",
      "/wiki/Dr._Stone\n",
      "https://www.mediawiki.org/wiki/Special:MyLanguage/How_to_contribute\n",
      "/wiki/Wikipedia:About\n",
      "/wiki/Engaged_to_the_Unidentified\n",
      "/wiki/Blade_of_the_Immortal\n",
      "/wiki/Haikara-San:_Here_Comes_Miss_Modern\n",
      "/wiki/Category:Television_programs_based_on_manga\n",
      "/wiki/Danchi_Tomoo\n",
      "/wiki/Doki_Doki_School_Hours\n",
      "/wiki/Hanayamata\n",
      "/wiki/Wikipedia:FAQ/Categorization#Why_might_a_category_list_not_be_up_to_date?\n",
      "/wiki/Guyver:_The_Bioboosted_Armor\n",
      "/wiki/Demon_Slayer:_Kimetsu_no_Yaiba\n",
      "/wiki/Angel_Heart_(manga)\n",
      "/wiki/Arakawa_Under_the_Bridge\n",
      "/wiki/Freezing_(manga)\n",
      "/wiki/Chimpui\n",
      "/wiki/Clean_Freak!_Aoyama_kun\n",
      "/wiki/Comic_Girls\n",
      "/wiki/Air_Master\n",
      "/wiki/Dance_in_the_Vampire_Bund\n",
      "/wiki/Azumanga_Daioh\n",
      "/wiki/Hakkenden:_Eight_Dogs_of_the_East\n",
      "/wiki/Boku_no_Tonari_ni_Ankoku_Hakaishin_ga_Imasu.\n",
      "/wiki/Arpeggio_of_Blue_Steel\n",
      "/wiki/Gag_Manga_Biyori\n",
      "/wiki/Corpse_Princess\n",
      "/wiki/Coji-Coji\n",
      "/wiki/Chronos_Ruler\n",
      "/wiki/Fight_Ippatsu!_J%C5%ABden-chan!!\n",
      "/wiki/Category_talk:Anime_series_based_on_manga\n",
      "/wiki/The_Comic_Artist_and_His_Assistants\n",
      "/wiki/Attacker_You!\n",
      "/wiki/Astra_Lost_in_Space\n",
      "/wiki/First_Love_Monster\n",
      "https://foundation.wikimedia.org/wiki/Privacy_policy\n",
      "/wiki/H2_(manga)\n",
      "/wiki/Wikipedia:Community_portal\n",
      "/wiki/Beelzebub_(manga)\n",
      "/wiki/Hello!_Lady_Lynn\n",
      "/wiki/Berserk_(2016_TV_series)\n",
      "/wiki/Fumikiri_Jikan\n",
      "/wiki/Akkun_to_Kanojo\n",
      "/wiki/Descendants_of_Darkness\n",
      "/wiki/Cardcaptor_Sakura\n",
      "/wiki/Bonobono\n",
      "/wiki/Aho-Girl\n",
      "/wiki/Daimidaler:_Prince_vs_Penguin_Empire\n",
      "/wiki/A_Centaur%27s_Life\n",
      "/wiki/1-nichi_Gaishutsuroku_Hanch%C5%8D\n",
      "/wiki/Boarding_School_Juliet\n",
      "/wiki/Ceres,_Celestial_Legend\n",
      "https://www.wikidata.org/wiki/Special:EntityPage/Q8254493\n",
      "/wiki/Dragon_Ball_GT\n",
      "//en.wikipedia.org/wiki/Wikipedia:Contact_us\n",
      "/wiki/Btooom!\n",
      "/wiki/Anne_Happy\n",
      "/wiki/All_Out!!\n",
      "/wiki/Brynhildr_in_the_Darkness\n",
      "/wiki/Help:Category\n",
      "/wiki/Bleach_(TV_series)\n",
      "/wiki/Akagi_(manga)\n",
      "/wiki/Wikipedia:File_Upload_Wizard\n",
      "/wiki/Special:SpecialPages\n",
      "/wiki/Berserk_(1997_TV_series)\n",
      "/wiki/Alice_%26_Zoroku\n",
      "/wiki/Gourmet_Girl_Graffiti\n",
      "/wiki/Akuma-kun\n",
      "/wiki/Dimension_W\n",
      "/wiki/Croket!\n",
      "https://it.wikipedia.org/wiki/Categoria:Serie_anime_basate_su_manga\n",
      "/wiki/Ah_My_Buddha\n",
      "/wiki/Fruits_Basket\n",
      "//foundation.wikimedia.org/wiki/Privacy_policy\n",
      "/wiki/Angelic_Layer\n",
      "/wiki/Hajime_no_Ippo\n",
      "https://foundation.wikimedia.org/wiki/Cookie_statement\n",
      "/wiki/Crayon_Shin-chan\n",
      "/wiki/Bunny_Drop\n",
      "/wiki/Grandpa_Danger\n",
      "/wiki/100%25_Pascal-sensei\n",
      "/wiki/Double-J_(manga)\n",
      "/wiki/Aim_for_the_Ace!\n",
      "https://www.wikidata.org/wiki/Special:EntityPage/Q8254493#sitelinks-wikipedia\n",
      "/wiki/Dream_Eater_Merry\n",
      "/wiki/Dakaretai_Otoko_1-i_ni_Odosarete_Imasu.\n",
      "https://pt.wikipedia.org/wiki/Categoria:S%C3%A9ries_de_anime_baseadas_em_mang%C3%A1\n",
      "/wiki/Game_Center_Arashi\n",
      "/wiki/Dumbbell_Nan-Kilo_Moteru%3F\n",
      "/wiki/Ao-chan_Can%27t_Study!\n",
      "/wiki/Hakumei_and_Mikochi\n",
      "/wiki/Cuticle_Detective_Inaba\n",
      "/wiki/Hidamari_Sketch\n",
      "/wiki/As_Miss_Beelzebub_Likes\n",
      "/wiki/Basara_(manga)\n",
      "/wiki/Aiura\n",
      "/wiki/Gugure!_Kokkuri-san\n",
      "/wiki/Blue_Spring_Ride\n",
      "/wiki/Attack_on_Titan\n",
      "/wiki/The_Flowers_of_Evil_(manga)\n",
      "/wiki/Happy_Sugar_Life\n",
      "/wiki/Ask_Dr._Rin!\n",
      "/wiki/Category:Animated_series_based_on_comics\n",
      "/wiki/Black_Lagoon\n",
      "/wiki/Har%C3%A9%2BGuu\n",
      "/wiki/Aah!_Harimanada\n",
      "/wiki/009-1\n",
      "/wiki/Wikipedia:About\n",
      "https://fa.wikipedia.org/wiki/%D8%B1%D8%AF%D9%87:%D8%B3%D8%B1%DB%8C_%D8%A7%D9%86%DB%8C%D9%85%D9%87%E2%80%8C%D9%87%D8%A7%DB%8C_%D8%A8%D8%B1_%D9%BE%D8%A7%DB%8C%D9%87_%D9%85%D8%A7%D9%86%DA%AF%D8%A7\n",
      "/wiki/Help:Contents\n",
      "/wiki/Attack_on_Titan:_Junior_High\n",
      "/wiki/Portal:Contents\n",
      "/wiki/Skull-face_Bookseller_Honda-san\n",
      "/wiki/Glass_Mask\n",
      "/wiki/Big_Order\n",
      "/wiki/Hen_Semi\n",
      "/wiki/Atashin%27chi\n",
      "/wiki/Anpanman\n",
      "/wiki/Portal:Current_events\n",
      "/wiki/Fairy_Tail_Zero\n",
      "/wiki/GA_Geijutsuka_Art_Design_Class\n",
      "/wiki/Special:RecentChanges\n",
      "/wiki/Darwin%27s_Game\n",
      "/wiki/Wikipedia:General_disclaimer\n",
      "/wiki/B_Gata_H_Kei\n",
      "/wiki/Encouragement_of_Climb\n",
      "https://es.wikipedia.org/wiki/Categor%C3%ADa:Series_de_anime_basadas_en_manga\n",
      "/wiki/Black_Cat_(manga)\n",
      "/wiki/Harris_no_Kaze\n",
      "/wiki/Astro_Fighter_Sunred\n",
      "/wiki/Cells_at_Work!\n",
      "/wiki/Code:Breaker\n",
      "/wiki/ACCA:_13-Territory_Inspection_Dept.\n",
      "/wiki/Arata:_The_Legend\n",
      "/wiki/Ace_of_Diamond\n",
      "https://vi.wikipedia.org/wiki/Th%E1%BB%83_lo%E1%BA%A1i:Anime_d%C3%A0i_t%E1%BA%ADp_d%E1%BB%B1a_theo_manga\n",
      "//foundation.wikimedia.org/wiki/Terms_of_Use\n",
      "/wiki/Grand_Blue\n",
      "/wiki/Special:MyTalk\n",
      "/wiki/Denkigai_no_Honya-san\n",
      "/wiki/Blast_of_Tempest\n",
      "/wiki/Basilisk_(manga)\n",
      "/wiki/Alice_or_Alice\n",
      "/wiki/Claymore_(manga)\n",
      "/wiki/Category:Anime_series_based_on_manga\n",
      "/wiki/A_Certain_Scientific_Railgun\n",
      "/wiki/The_Disastrous_Life_of_Saiki_K.\n",
      "/wiki/A_Channel_(manga)\n",
      "/wiki/Captain_(manga)\n",
      "/wiki/Gakuen_Alice\n",
      "/wiki/Fighting_Beauty_Wulong\n",
      "/wiki/Blood_Lad\n",
      "//en.wikipedia.org/wiki/Wikipedia:Text_of_Creative_Commons_Attribution-ShareAlike_3.0_Unported_License\n",
      "/wiki/Category:Anime_series\n",
      "/wiki/Main_Page\n",
      "/wiki/Fate/kaleid_liner_Prisma_Illya\n",
      "/wiki/Cobra_(manga)\n",
      "/wiki/Chibi_Maruko-chan\n",
      "/wiki/Special:Random\n",
      "/wiki/Dragon_Ball_Super\n",
      "/wiki/Case_Closed\n",
      "/wiki/Category:Anime_series_based_on_manga\n",
      "/wiki/Chibi_Vampire\n",
      "/wiki/Back_Street_Girls\n",
      "/wiki/21_Emon\n",
      "https://simple.wikipedia.org/wiki/Category:Anime_series_based_on_manga\n",
      "/wiki/Cardcaptor_Sakura:_Clear_Card\n",
      "/wiki/Baby_%26_Me\n",
      "/wiki/D.Gray-man\n",
      "/wiki/Akame_ga_Kill!\n",
      "https://sco.wikipedia.org/wiki/Category:Anime_series_based_on_manga\n",
      "/wiki/Baki_the_Grappler\n",
      "/wiki/He_Is_My_Master\n",
      "/wiki/Chi%27s_Sweet_Home\n",
      "/wiki/Dragon_Ball_Z\n",
      "/wiki/Chiisai_Oyaji_Nikki\n",
      "https://id.wikipedia.org/wiki/Kategori:Seri_anime_yang_didasarkan_dari_manga\n",
      "/wiki/Buso_Renkin\n",
      "/wiki/Eyeshield_21\n",
      "/wiki/Bow_Wow_(manga)\n",
      "/wiki/Daily_Lives_of_High_School_Boys\n",
      "/wiki/Cross_Game\n",
      "/wiki/Gangsta_(manga)\n",
      "/wiki/Ai-Mai-Mi\n",
      "/wiki/Main_Page\n",
      "/wiki/Hanasakeru_Seish%C5%8Dnen\n",
      "/wiki/Portal:Featured_content\n",
      "/wiki/Chibi_Devi!\n",
      "/wiki/Asari-chan\n",
      "/wiki/Fairy_Tail\n",
      "/wiki/Danchigai\n",
      "/wiki/Beastars\n",
      "/wiki/Haikyu!!\n",
      "/wiki/Dagashi_Kashi\n",
      "/wiki/Atom:_The_Beginning\n",
      "/wiki/Gakuen_Utopia_Manabi_Straight!\n",
      "/wiki/Special:RecentChangesLinked/Category:Anime_series_based_on_manga\n",
      "/wiki/Dorohedoro\n",
      "/wiki/Aishite_Knight\n",
      "/wiki/First_Human_Giatrus\n",
      "/wiki/Fullmetal_Alchemist:_Brotherhood\n",
      "/wiki/Special:MyContributions\n",
      "/wiki/Buzzer_Beater_(manga)\n",
      "/wiki/D-Frag!\n",
      "/wiki/Aria_(manga)\n",
      "/wiki/Amatsuki\n",
      "https://az.wikipedia.org/wiki/Kateqoriya:Manqalara_%C9%99saslanan_anime_seriallar%C4%B1\n",
      "/wiki/Domestic_Girlfriend\n",
      "/wiki/The_Betrayal_Knows_My_Name\n",
      "/wiki/Bakuman\n",
      "/wiki/Blood_Blockade_Battlefront\n",
      "/wiki/Boruto:_Naruto_Next_Generations\n",
      "/wiki/Erased_(manga)\n",
      "/wiki/Anonymous_Noise\n",
      "/wiki/Anima_Yell!\n",
      "https://ar.wikipedia.org/wiki/%D8%AA%D8%B5%D9%86%D9%8A%D9%81:%D9%85%D8%B3%D9%84%D8%B3%D9%84%D8%A7%D8%AA_%D8%A3%D9%86%D9%85%D9%8A_%D9%85%D8%B3%D8%AA%D9%86%D8%AF%D8%A9_%D8%A5%D9%84%D9%89_%D9%85%D8%A7%D9%86%D8%BA%D8%A7\n",
      "/wiki/Happy_Happy_Clover\n",
      "/wiki/Fist_of_the_North_Star\n",
      "/wiki/Special:WhatLinksHere/Category:Anime_series_based_on_manga\n",
      "https://donate.wikimedia.org/wiki/Special:FundraiserRedirector?utm_source=donate&utm_medium=sidebar&utm_campaign=C13_en.wikipedia.org&uselang=en\n",
      "/wiki/Barakamon\n",
      "//en.wikipedia.org/wiki/Wikipedia:Contact_us\n",
      "/wiki/Fullmetal_Alchemist_(TV_series)\n"
     ]
    }
   ],
   "source": [
    "print_array(category_links)\n"
   ]
  },
  {
   "cell_type": "code",
   "execution_count": null,
   "metadata": {},
   "outputs": [],
   "source": []
  }
 ],
 "metadata": {
  "kernelspec": {
   "display_name": "Python 3",
   "language": "python",
   "name": "python3"
  },
  "language_info": {
   "codemirror_mode": {
    "name": "ipython",
    "version": 3
   },
   "file_extension": ".py",
   "mimetype": "text/x-python",
   "name": "python",
   "nbconvert_exporter": "python",
   "pygments_lexer": "ipython3",
   "version": "3.6.6"
  },
  "latex_envs": {
   "LaTeX_envs_menu_present": true,
   "autoclose": false,
   "autocomplete": true,
   "bibliofile": "biblio.bib",
   "cite_by": "apalike",
   "current_citInitial": 1,
   "eqLabelWithNumbers": true,
   "eqNumInitial": 1,
   "hotkeys": {
    "equation": "Ctrl-E",
    "itemize": "Ctrl-I"
   },
   "labels_anchors": false,
   "latex_user_defs": false,
   "report_style_numbering": false,
   "user_envs_cfg": false
  },
  "toc": {
   "base_numbering": 1,
   "nav_menu": {},
   "number_sections": false,
   "sideBar": false,
   "skip_h1_title": false,
   "title_cell": "Table of Contents",
   "title_sidebar": "Contents",
   "toc_cell": false,
   "toc_position": {},
   "toc_section_display": false,
   "toc_window_display": false
  }
 },
 "nbformat": 4,
 "nbformat_minor": 2
}
